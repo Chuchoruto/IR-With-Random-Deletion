{
 "cells": [
  {
   "cell_type": "code",
   "execution_count": 31,
   "metadata": {},
   "outputs": [],
   "source": [
    "import pandas as pd\n",
    "\n",
    "df = pd.read_csv(\"11_20_26_27_articles_combined.csv\")"
   ]
  },
  {
   "cell_type": "code",
   "execution_count": 2,
   "metadata": {},
   "outputs": [
    {
     "data": {
      "text/html": [
       "<div>\n",
       "<style scoped>\n",
       "    .dataframe tbody tr th:only-of-type {\n",
       "        vertical-align: middle;\n",
       "    }\n",
       "\n",
       "    .dataframe tbody tr th {\n",
       "        vertical-align: top;\n",
       "    }\n",
       "\n",
       "    .dataframe thead th {\n",
       "        text-align: right;\n",
       "    }\n",
       "</style>\n",
       "<table border=\"1\" class=\"dataframe\">\n",
       "  <thead>\n",
       "    <tr style=\"text-align: right;\">\n",
       "      <th></th>\n",
       "      <th>title</th>\n",
       "      <th>url</th>\n",
       "      <th>date</th>\n",
       "      <th>content</th>\n",
       "    </tr>\n",
       "  </thead>\n",
       "  <tbody>\n",
       "    <tr>\n",
       "      <th>0</th>\n",
       "      <td>Yahoo Finance</td>\n",
       "      <td>https://finance.yahoo.com/news/threads-now-let...</td>\n",
       "      <td>Wed, Nov 27, 2024, 12:15 PM</td>\n",
       "      <td>Threads is rolling out a redesign that keeps y...</td>\n",
       "    </tr>\n",
       "    <tr>\n",
       "      <th>1</th>\n",
       "      <td>Yahoo Finance</td>\n",
       "      <td>https://finance.yahoo.com/news/elon-musk-calls...</td>\n",
       "      <td>Wed, Nov 27, 2024, 1:34 PM</td>\n",
       "      <td>Billionaire Elon Musk, a key adviser to the in...</td>\n",
       "    </tr>\n",
       "    <tr>\n",
       "      <th>2</th>\n",
       "      <td>Yahoo Finance</td>\n",
       "      <td>https://finance.yahoo.com/news/tpg-angelo-gord...</td>\n",
       "      <td>Wed, Nov 27, 2024, 11:23 AM</td>\n",
       "      <td>(Bloomberg) -- Americans borrowing against the...</td>\n",
       "    </tr>\n",
       "    <tr>\n",
       "      <th>3</th>\n",
       "      <td>Yahoo Finance</td>\n",
       "      <td>https://finance.yahoo.com/news/microsoft-faces...</td>\n",
       "      <td>Wed, Nov 27, 2024, 12:58 PM</td>\n",
       "      <td>(Bloomberg) -- The US Federal Trade Commission...</td>\n",
       "    </tr>\n",
       "    <tr>\n",
       "      <th>4</th>\n",
       "      <td>Yahoo Finance</td>\n",
       "      <td>https://finance.yahoo.com/news/crowdstrike-fal...</td>\n",
       "      <td>Wed, Nov 27, 2024, 6:40 AM</td>\n",
       "      <td>(Bloomberg) -- CrowdStrike Holdings Inc. fell ...</td>\n",
       "    </tr>\n",
       "  </tbody>\n",
       "</table>\n",
       "</div>"
      ],
      "text/plain": [
       "           title                                                url   \n",
       "0  Yahoo Finance  https://finance.yahoo.com/news/threads-now-let...  \\\n",
       "1  Yahoo Finance  https://finance.yahoo.com/news/elon-musk-calls...   \n",
       "2  Yahoo Finance  https://finance.yahoo.com/news/tpg-angelo-gord...   \n",
       "3  Yahoo Finance  https://finance.yahoo.com/news/microsoft-faces...   \n",
       "4  Yahoo Finance  https://finance.yahoo.com/news/crowdstrike-fal...   \n",
       "\n",
       "                          date   \n",
       "0  Wed, Nov 27, 2024, 12:15 PM  \\\n",
       "1   Wed, Nov 27, 2024, 1:34 PM   \n",
       "2  Wed, Nov 27, 2024, 11:23 AM   \n",
       "3  Wed, Nov 27, 2024, 12:58 PM   \n",
       "4   Wed, Nov 27, 2024, 6:40 AM   \n",
       "\n",
       "                                             content  \n",
       "0  Threads is rolling out a redesign that keeps y...  \n",
       "1  Billionaire Elon Musk, a key adviser to the in...  \n",
       "2  (Bloomberg) -- Americans borrowing against the...  \n",
       "3  (Bloomberg) -- The US Federal Trade Commission...  \n",
       "4  (Bloomberg) -- CrowdStrike Holdings Inc. fell ...  "
      ]
     },
     "execution_count": 2,
     "metadata": {},
     "output_type": "execute_result"
    }
   ],
   "source": [
    "df.head()"
   ]
  },
  {
   "cell_type": "code",
   "execution_count": 32,
   "metadata": {},
   "outputs": [
    {
     "name": "stdout",
     "output_type": "stream",
     "text": [
      "Sentences successfully written to output_sentences.txt\n"
     ]
    }
   ],
   "source": [
    "import pandas as pd\n",
    "import re\n",
    "\n",
    "# Function to split text into sentences using regex\n",
    "def split_into_sentences(text):\n",
    "    # Regular expression for sentence splitting\n",
    "    sentence_endings = re.compile(r'(?<!\\w\\.\\w.)(?<![A-Z][a-z]\\.)(?<=\\.|\\?|!)\\s')\n",
    "    return sentence_endings.split(text)\n",
    "\n",
    "# Load your dataframe (example assumes it's already loaded as `df`)\n",
    "# df = pd.read_csv('your_dataframe.csv')  # Uncomment if loading from a CSV\n",
    "\n",
    "# Ensure 'content' column exists\n",
    "if 'content' not in df.columns:\n",
    "    raise ValueError(\"The dataframe must have a 'content' column.\")\n",
    "\n",
    "# Initialize an empty list to store all sentences\n",
    "all_sentences = []\n",
    "\n",
    "# Iterate through each row in the content column\n",
    "for text in df['content'].dropna():\n",
    "    # Split text into sentences\n",
    "    sentences = split_into_sentences(text)\n",
    "    all_sentences.extend(sentences)\n",
    "\n",
    "# Write all sentences to a text file, each on a new line\n",
    "output_file = 'output_sentences.txt'\n",
    "with open(output_file, 'w', encoding='utf-8') as file:\n",
    "    file.write('\\n'.join(all_sentences))\n",
    "\n",
    "print(f\"Sentences successfully written to {output_file}\")\n"
   ]
  },
  {
   "cell_type": "code",
   "execution_count": 34,
   "metadata": {},
   "outputs": [],
   "source": [
    "import pandas as pd\n",
    "import random\n",
    "\n",
    "# Load the high-quality phrases and their scores from AutoPhrase.txt\n",
    "# Assuming AutoPhrase.txt has lines in the format: \"score\\tphrase\"\n",
    "phrases = {}\n",
    "with open('AutoPhrase.txt', 'r', encoding='utf-8') as file:\n",
    "    for line in file:\n",
    "        try:\n",
    "            score, phrase = line.strip().split('\\t')\n",
    "            phrases[phrase] = float(score)  # Convert score to float\n",
    "        except ValueError:\n",
    "            continue  # Skip lines that don't match the expected format\n",
    "\n",
    "# Function to filter phrases in a document\n",
    "def filter_phrases(document, threshold, p):\n",
    "    words = document.split()\n",
    "    filtered_words = []\n",
    "    for word in words:\n",
    "        if word in phrases:\n",
    "            if phrases[word] >= threshold:  # Keep if above threshold\n",
    "                filtered_words.append(word)\n",
    "            elif (random.random() > p):\n",
    "                    filtered_words.append(word)\n",
    "        elif(random.random() > p):\n",
    "            filtered_words.append(word)  # Keep if not in the phrase list\n",
    "    return ' '.join(filtered_words)\n",
    "\n",
    "# Parameters\n",
    "threshold = 0.5  # Example threshold value\n",
    "p = 1        # Example probability\n",
    "\n",
    "# Apply filtering to each document and create a new column\n",
    "df['filtered_content'] = df['content'].apply(lambda x: filter_phrases(x, threshold, p))\n",
    "\n",
    "filename = f'high_quality_dropout/Q_Threshold_{threshold}-Drop_P_{p}.csv'\n",
    "# Save the updated dataframe to a new file (optional)\n",
    "df.to_csv(filename, index=False)\n",
    "\n"
   ]
  },
  {
   "cell_type": "code",
   "execution_count": 35,
   "metadata": {},
   "outputs": [
    {
     "name": "stdout",
     "output_type": "stream",
     "text": [
      "New column 'filtered_content' added to the dataframe.\n"
     ]
    }
   ],
   "source": [
    "p_s = [0.1, 0.3, 0.5, 0.7, 0.9, 1]\n",
    "q_s = [0, 0.3, 0.5, 0.7, 0.9]\n",
    "\n",
    "for p in p_s:\n",
    "    for threshold in q_s:\n",
    "\n",
    "        df['filtered_content'] = df['content'].apply(lambda x: filter_phrases(x, threshold, p))\n",
    "\n",
    "        filename = f'high_quality_dropout/Q_Threshold_{threshold}-Drop_P_{p}.csv'\n",
    "# Save the updated dataframe to a new file (optional)\n",
    "        df.to_csv(filename, index=False)\n",
    "\n",
    "print(\"New column 'filtered_content' added to the dataframe.\")"
   ]
  },
  {
   "cell_type": "code",
   "execution_count": 37,
   "metadata": {},
   "outputs": [
    {
     "name": "stdout",
     "output_type": "stream",
     "text": [
      "New CSVs with refined focus complete.\n"
     ]
    }
   ],
   "source": [
    "p_s = [0.1, 0.15, 0.2, 0.25, 0.3, 0.4, 0.5]\n",
    "q_s = [0.4, 0.45, 0.47, 0.5, 0.55]\n",
    "\n",
    "for p in p_s:\n",
    "    for threshold in q_s:\n",
    "\n",
    "        df['filtered_content'] = df['content'].apply(lambda x: filter_phrases(x, threshold, p))\n",
    "\n",
    "        filename = f'hq_refined_dropout/Q_Threshold_{threshold}-Drop_P_{p}.csv'\n",
    "# Save the updated dataframe to a new file (optional)\n",
    "        df.to_csv(filename, index=False)\n",
    "\n",
    "print(\"New CSVs with refined focus complete.\")"
   ]
  }
 ],
 "metadata": {
  "kernelspec": {
   "display_name": "Python 3",
   "language": "python",
   "name": "python3"
  },
  "language_info": {
   "codemirror_mode": {
    "name": "ipython",
    "version": 3
   },
   "file_extension": ".py",
   "mimetype": "text/x-python",
   "name": "python",
   "nbconvert_exporter": "python",
   "pygments_lexer": "ipython3",
   "version": "3.11.1"
  }
 },
 "nbformat": 4,
 "nbformat_minor": 2
}
