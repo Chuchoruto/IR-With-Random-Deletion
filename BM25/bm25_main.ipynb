{
 "cells": [
  {
   "cell_type": "code",
   "execution_count": 322,
   "id": "c9f3ef46-72f7-40b0-8d48-05403cb83d27",
   "metadata": {},
   "outputs": [],
   "source": [
    "import pandas as pd\n",
    "import numpy as np\n",
    "from openai import OpenAI, Embedding\n",
    "from nltk import word_tokenize\n",
    "from nltk.corpus import stopwords\n",
    "import string\n",
    "import os\n"
   ]
  },
  {
   "cell_type": "code",
   "execution_count": 326,
   "id": "c9309815-57f5-4369-ad4a-cb7f3b483bb5",
   "metadata": {},
   "outputs": [],
   "source": [
    "df = pd.read_csv(\"../word-dropout/11_20_26_27_Articles_DROPOUT.csv\") \n",
    "queries = pd.read_csv(\"../queries_for_documents.csv\")\n",
    "#openai_client = OpenAI(api_key = 'insert-api-key')"
   ]
  },
  {
   "cell_type": "code",
   "execution_count": 237,
   "id": "cd1af5a9-f7d1-4361-9813-c25f14ca4cea",
   "metadata": {},
   "outputs": [
    {
     "name": "stdout",
     "output_type": "stream",
     "text": [
      "   id          title                                                url  \\\n",
      "0   0  Yahoo Finance  https://finance.yahoo.com/news/threads-now-let...   \n",
      "1   1  Yahoo Finance  https://finance.yahoo.com/news/elon-musk-calls...   \n",
      "2   2  Yahoo Finance  https://finance.yahoo.com/news/tpg-angelo-gord...   \n",
      "3   3  Yahoo Finance  https://finance.yahoo.com/news/microsoft-faces...   \n",
      "4   4  Yahoo Finance  https://finance.yahoo.com/news/crowdstrike-fal...   \n",
      "\n",
      "                          date  \\\n",
      "0  Wed, Nov 27, 2024, 12:15 PM   \n",
      "1   Wed, Nov 27, 2024, 1:34 PM   \n",
      "2  Wed, Nov 27, 2024, 11:23 AM   \n",
      "3  Wed, Nov 27, 2024, 12:58 PM   \n",
      "4   Wed, Nov 27, 2024, 6:40 AM   \n",
      "\n",
      "                                             content  \\\n",
      "0  Threads is rolling out a redesign that keeps y...   \n",
      "1  Billionaire Elon Musk, a key adviser to the in...   \n",
      "2  (Bloomberg) -- Americans borrowing against the...   \n",
      "3  (Bloomberg) -- The US Federal Trade Commission...   \n",
      "4  (Bloomberg) -- CrowdStrike Holdings Inc. fell ...   \n",
      "\n",
      "                               reduced_content_p=0.1  \\\n",
      "0  Threads is a redesign keeps your feeds visible...   \n",
      "1  Billionaire Musk, a key adviser to the incomin...   \n",
      "2  (Bloomberg) -- Americans borrowing against the...   \n",
      "3  (Bloomberg) -- The US Federal Trade Commission...   \n",
      "4  (Bloomberg) -- CrowdStrike Holdings Inc. fell ...   \n",
      "\n",
      "                               reduced_content_p=0.3  \\\n",
      "0  Threads rolling out a redesign that your visib...   \n",
      "1  Elon Musk, a key adviser the incoming administ...   \n",
      "2  (Bloomberg) borrowing against homes after a su...   \n",
      "3  (Bloomberg) The Trade has an investigation of ...   \n",
      "4  (Bloomberg) CrowdStrike Holdings in trading on...   \n",
      "\n",
      "                               reduced_content_p=0.5  \\\n",
      "0  Threads is out a on home screen, head Adam ann...   \n",
      "1  Elon adviser to the administration, called the...   \n",
      "2  their after surge in creating trillion opportu...   \n",
      "3  (Bloomberg) -- Federal Commission has opened a...   \n",
      "4  (Bloomberg) -- Holdings Inc. in on after the c...   \n",
      "\n",
      "                               reduced_content_p=0.7  \\\n",
      "0  is your the announced on The allows between ju...   \n",
      "1  adviser the incoming Trump the Protection to b...   \n",
      "2  borrowing their homes prices a investors, acco...   \n",
      "3  The opened of from computing and licensing art...   \n",
      "4  (Bloomberg) early the cybersecurity company we...   \n",
      "\n",
      "                               reduced_content_p=0.9  \n",
      "0  redesign Instagram head you out can a should m...  \n",
      "1  Billionaire Trump for Consumer to setting on t...  \n",
      "2  against a in prices Gordon. Brace Are Lanes eq...  \n",
      "3  and artificial Read Kansas Takes according to ...  \n",
      "4  cybersecurity weaker-than-expected who compute...  \n"
     ]
    }
   ],
   "source": [
    "print(df.head())"
   ]
  },
  {
   "cell_type": "code",
   "execution_count": 216,
   "id": "4ae7c879-0d34-453d-a35b-1518fe0ccc09",
   "metadata": {},
   "outputs": [
    {
     "name": "stdout",
     "output_type": "stream",
     "text": [
      "                                               query  doc_index\n",
      "0  Why is Australia's monetary policy still seen ...        551\n",
      "1  What's Palo Alto Networks' revenue forecast fo...        400\n",
      "2  How could institutional investments affect Bit...        377\n",
      "3  Hey, I've been hearing that some AI companies ...        240\n",
      "4  What impact could increased tariffs have on th...        516\n"
     ]
    }
   ],
   "source": [
    "print(queries.head())"
   ]
  },
  {
   "cell_type": "code",
   "execution_count": 190,
   "id": "0da13a85-9dc2-44d1-9f59-99e9048666fa",
   "metadata": {},
   "outputs": [],
   "source": [
    "from openai import OpenAI, Embedding\n",
    "\n",
    "\n",
    "def summarize_doc(openai_client, text):\n",
    "    query = \"Summarize this into less than 10 words\"\n",
    "\n",
    "    prompt = f\"Context:\\n{text}\\n\\nQuestion: {query}\\nAnswer:\"\n",
    "\n",
    "\n",
    "    completion = openai_client.chat.completions.create(\n",
    "        model=\"gpt-3.5-turbo-0125\",\n",
    "        messages=[\n",
    "        {\"role\": \"user\", \"content\": prompt}\n",
    "        ]\n",
    "    )\n",
    "\n",
    "    print(completion.choices[0].message)"
   ]
  },
  {
   "cell_type": "code",
   "execution_count": 232,
   "id": "20886afe-b16e-4163-9fed-208ad1bd8b81",
   "metadata": {},
   "outputs": [],
   "source": [
    "import string\n",
    "from nltk.corpus import stopwords\n",
    "from nltk.stem import PorterStemmer\n",
    "\n",
    "def preprocess_text(text):\n",
    "    \"\"\"Preprocess a single text input (either document or query) and use word stems.\"\"\"\n",
    "    stop_words = set(stopwords.words('english'))\n",
    "    stop_words.add('would')  # Add custom stop words if needed\n",
    "    translator = str.maketrans(string.punctuation, ' ' * len(string.punctuation))  # Replace punctuation with spaces\n",
    "    text_nopunct = text.translate(translator)  # Remove punctuation\n",
    "    words_list = text_nopunct.strip().split()  # Tokenize into words\n",
    "    stemmer = PorterStemmer()\n",
    "    filtered_words = [stemmer.stem(word.lower()) for word in words_list if word.lower() not in stop_words and len(word) > 1]\n",
    "    return filtered_words\n",
    "\n",
    "def preprocess_df(df):\n",
    "    \"\"\"Preprocess a DataFrame column containing document content.\"\"\"\n",
    "    df[\"content\"] = df[\"content\"].apply(preprocess_text)\n",
    "    for p in [0.1, 0.3, 0.5, 0.7, 0.9]:\n",
    "        df[f\"reduced_content_p={p}\"] = df[f\"reduced_content_p={p}\"].apply(preprocess_text)\n",
    "    return df\n",
    "\n",
    "def preprocess_query(query):\n",
    "    \"\"\"Preprocess a query string.\"\"\"\n",
    "    return preprocess_text(query)\n"
   ]
  },
  {
   "cell_type": "code",
   "execution_count": 300,
   "id": "c5b70849-0d1c-46b2-ba3d-0fdcc50b17a4",
   "metadata": {},
   "outputs": [],
   "source": [
    "import bm25\n",
    "import importlib\n",
    "\n",
    "# Reload the module after making changes\n",
    "importlib.reload(bm25)\n",
    "\n",
    "# Initialize the BM25 instance\n",
    "\n",
    "def rank_query_bm25(bm25, query, ground_truth_index, top_k=5, summarize_docs=True, only_scores=False):\n",
    "    # Display initial document details\n",
    "\n",
    "    if not only_scores:\n",
    "        print(\"=\" * 50)\n",
    "        print(\"📄 Document Sample:\")\n",
    "        print(df.head())\n",
    "        print(\"=\" * 50)\n",
    "        print(f\"📏 Total Documents: {len(bm25_instance.doc_lengths)}\")\n",
    "        print(f\"Preprocessed query: {query} with doc_index {ground_truth_index}\")\n",
    "    # Rank documents for a given query\n",
    "    ranked_indices, scores = bm25_instance.rank(query)\n",
    "\n",
    "    ranked_indices = ranked_indices[:top_k]\n",
    "    scores = scores[:top_k]\n",
    "\n",
    "    if not only_scores:\n",
    "        print(\"\\n🏆 Ranking Results:\")\n",
    "        print(\"=\" * 50)\n",
    "        for i, (doc_index, score) in enumerate(zip(ranked_indices, scores), start=1):\n",
    "            print(f\"⭐ Rank {i}:\")\n",
    "            print(f\"   - Document Index: {doc_index}\")\n",
    "            print(f\"   - BM25 Score: {score:.4f}\")\n",
    "            doc_content = df.iloc[doc_index][\"content\"]\n",
    "            if (summarize_docs):\n",
    "                summmary = summarize_doc(openai_client, doc_content)\n",
    "                print(f\"   - Document Content:\\n{summmary}\")\n",
    "            else:\n",
    "                print(f\"   - Document Content:\\n{doc_content}\")\n",
    "            print(\"-\" * 50)\n",
    "    return ranked_indices, scores\n",
    "\n",
    "    \n",
    "    \n"
   ]
  },
  {
   "cell_type": "code",
   "execution_count": 327,
   "id": "de0e8609-f734-4a76-a439-e18da7ab07ca",
   "metadata": {},
   "outputs": [],
   "source": [
    "df = preprocess_df(df)"
   ]
  },
  {
   "cell_type": "code",
   "execution_count": 159,
   "id": "34f1b7a8-1f96-4c59-9e91-d5f3de144dfd",
   "metadata": {},
   "outputs": [
    {
     "name": "stdout",
     "output_type": "stream",
     "text": [
      "   id          title                                                url  \\\n",
      "0   0  Yahoo Finance  https://finance.yahoo.com/news/threads-now-let...   \n",
      "1   1  Yahoo Finance  https://finance.yahoo.com/news/elon-musk-calls...   \n",
      "2   2  Yahoo Finance  https://finance.yahoo.com/news/tpg-angelo-gord...   \n",
      "3   3  Yahoo Finance  https://finance.yahoo.com/news/microsoft-faces...   \n",
      "4   4  Yahoo Finance  https://finance.yahoo.com/news/crowdstrike-fal...   \n",
      "\n",
      "                          date  \\\n",
      "0  Wed, Nov 27, 2024, 12:15 PM   \n",
      "1   Wed, Nov 27, 2024, 1:34 PM   \n",
      "2  Wed, Nov 27, 2024, 11:23 AM   \n",
      "3  Wed, Nov 27, 2024, 12:58 PM   \n",
      "4   Wed, Nov 27, 2024, 6:40 AM   \n",
      "\n",
      "                                             content  \\\n",
      "0  [threads, rolling, redesign, keeps, feeds, vis...   \n",
      "1  [billionaire, elon, musk, key, adviser, incomi...   \n",
      "2  [bloomberg, americans, borrowing, homes, surge...   \n",
      "3  [bloomberg, us, federal, trade, commission, op...   \n",
      "4  [bloomberg, crowdstrike, holdings, inc, fell, ...   \n",
      "\n",
      "                               reduced_content_p=0.1  \\\n",
      "0  [threads, redesign, keeps, feeds, visible, hom...   \n",
      "1  [billionaire, musk, key, adviser, incoming, tr...   \n",
      "2  [bloomberg, americans, borrowing, surge, real,...   \n",
      "3  [bloomberg, us, federal, trade, commission, op...   \n",
      "4  [bloomberg, crowdstrike, holdings, inc, fell, ...   \n",
      "\n",
      "                               reduced_content_p=0.3  \\\n",
      "0  [threads, rolling, redesign, visible, head, ad...   \n",
      "1  [elon, musk, key, adviser, incoming, administr...   \n",
      "2  [bloomberg, borrowing, homes, surge, real, est...   \n",
      "3  [bloomberg, trade, investigation, microsoft, c...   \n",
      "4  [bloomberg, crowdstrike, holdings, trading, we...   \n",
      "\n",
      "                               reduced_content_p=0.5  \\\n",
      "0  [threads, home, screen, head, adam, announced,...   \n",
      "1  [elon, adviser, administration, called, financ...   \n",
      "2  [surge, creating, trillion, opportunity, accor...   \n",
      "3  [bloomberg, federal, commission, opened, antit...   \n",
      "4  [bloomberg, holdings, inc, company, issued, we...   \n",
      "\n",
      "                               reduced_content_p=0.7  \\\n",
      "0  [announced, allows, rolling, android, coming, ...   \n",
      "1  [adviser, incoming, trump, protection, elimina...   \n",
      "2  [borrowing, homes, prices, investors, accordin...   \n",
      "3  [opened, computing, licensing, artificial, rea...   \n",
      "4  [bloomberg, early, cybersecurity, company, wea...   \n",
      "\n",
      "                               reduced_content_p=0.9  \n",
      "0  [redesign, instagram, head, much, testing, opt...  \n",
      "1  [billionaire, trump, consumer, setting, fellow...  \n",
      "2  [prices, gordon, brace, lanes, equity, tj, dur...  \n",
      "3  [artificial, read, kansas, takes, according, c...  \n",
      "4  [cybersecurity, weaker, expected, computers, c...  \n"
     ]
    }
   ],
   "source": [
    "print(df.head())"
   ]
  },
  {
   "cell_type": "code",
   "execution_count": 328,
   "id": "1ba9279a-b336-434e-b609-793049970d16",
   "metadata": {},
   "outputs": [
    {
     "name": "stdout",
     "output_type": "stream",
     "text": [
      "Results for p=0:\n",
      "Average Precision at 10: 0.8800\n",
      "Average Precision at 5: 0.8400\n",
      "Average Precision at 3: 0.8000\n",
      "Average Precision at 1: 0.6600\n",
      "Average Time taken: 0.4811 seconds\n",
      "\n",
      "Results for p=0.1:\n",
      "Average Precision at 10: 0.8800\n",
      "Average Precision at 5: 0.8400\n",
      "Average Precision at 3: 0.8200\n",
      "Average Precision at 1: 0.6600\n",
      "Average Time taken: 0.4600 seconds\n",
      "\n",
      "Results for p=0.3:\n",
      "Average Precision at 10: 0.8600\n",
      "Average Precision at 5: 0.8200\n",
      "Average Precision at 3: 0.8000\n",
      "Average Precision at 1: 0.6800\n",
      "Average Time taken: 0.4169 seconds\n",
      "\n",
      "Results for p=0.5:\n",
      "Average Precision at 10: 0.8600\n",
      "Average Precision at 5: 0.7400\n",
      "Average Precision at 3: 0.7000\n",
      "Average Precision at 1: 0.5600\n",
      "Average Time taken: 0.3671 seconds\n",
      "\n",
      "Results for p=0.7:\n",
      "Average Precision at 10: 0.7400\n",
      "Average Precision at 5: 0.6000\n",
      "Average Precision at 3: 0.5600\n",
      "Average Precision at 1: 0.4400\n",
      "Average Time taken: 0.3011 seconds\n",
      "\n",
      "Results for p=0.9:\n",
      "Average Precision at 10: 0.4600\n",
      "Average Precision at 5: 0.3600\n",
      "Average Precision at 3: 0.3000\n",
      "Average Precision at 1: 0.1600\n",
      "Average Time taken: 0.2038 seconds\n",
      "\n"
     ]
    }
   ],
   "source": [
    "import numpy as np\n",
    "import time\n",
    "\n",
    "# Assuming bm25_instance, preprocess_query, rank_query_bm25, and other dependencies are defined\n",
    "\n",
    "# Initialize results and performance arrays\n",
    "results = np.zeros((6, 4))  # For storing Precision at 10, 5, 3, 1 for each p\n",
    "comp_time = np.zeros(6)     # For overall performance (average precision)\n",
    "average_times = np.zeros(6) # To store average times over 100 iterations\n",
    "\n",
    "# Mocking `queries` and `df` for demonstration purposes\n",
    "queries = queries[25:]  # Slice to remove the first 25 queries\n",
    "p_values = [0, 0.1, 0.3, 0.5, 0.7, 0.9]\n",
    "\n",
    "# Repeat the experiment 100 times\n",
    "for iteration in range(100):\n",
    "    i = 0\n",
    "    current_docs = df[\"content\"]\n",
    "\n",
    "    for p in p_values:\n",
    "        if p > 0:\n",
    "            current_docs = df[f\"reduced_content_p={p}\"]  # Get the document content for this p-value\n",
    "\n",
    "        bm25_instance = bm25.BM25(current_docs, k1=1.5, b=0.75)\n",
    "\n",
    "        top1, top3, top5, top10 = 0, 0, 0, 0\n",
    "        total_queries = len(queries)\n",
    "\n",
    "        # Start timing the ranking process\n",
    "        start_time = time.time()\n",
    "\n",
    "        # Loop over each query\n",
    "        for idx, row in queries.iterrows():\n",
    "            query = row[\"query\"]\n",
    "            doc_index = row[\"doc_index\"]\n",
    "            query = preprocess_query(query)\n",
    "\n",
    "            # Rank documents for the current query\n",
    "            ranked_indices, scores = rank_query_bm25(\n",
    "                bm25_instance, query, doc_index, top_k=10, summarize_docs=False, only_scores=True\n",
    "            )\n",
    "\n",
    "            # Check if the doc_index is in the top 10, 5, 3, and 1\n",
    "            if doc_index in ranked_indices:\n",
    "                if doc_index in ranked_indices[:10]:\n",
    "                    top10 += 1\n",
    "                if doc_index in ranked_indices[:5]:\n",
    "                    top5 += 1\n",
    "                if doc_index in ranked_indices[:3]:\n",
    "                    top3 += 1\n",
    "                if doc_index in ranked_indices[:1]:\n",
    "                    top1 += 1\n",
    "\n",
    "        # End timing the ranking process\n",
    "        elapsed_time = time.time() - start_time\n",
    "\n",
    "        # Update timing and performance metrics\n",
    "        results[i, :] += [top10 / total_queries, top5 / total_queries, top3 / total_queries, top1 / total_queries]\n",
    "        comp_time[i] += elapsed_time\n",
    "\n",
    "        i += 1\n",
    "\n",
    "# Calculate the average precision and speed for each p\n",
    "average_precision = results / 100\n",
    "average_times = comp_time / 100\n",
    "\n",
    "# Print the average precision and average times\n",
    "for i, p in enumerate(p_values):\n",
    "    print(f\"Results for p={p}:\")\n",
    "    print(f\"Average Precision at 10: {average_precision[i, 0]:.4f}\")\n",
    "    print(f\"Average Precision at 5: {average_precision[i, 1]:.4f}\")\n",
    "    print(f\"Average Precision at 3: {average_precision[i, 2]:.4f}\")\n",
    "    print(f\"Average Precision at 1: {average_precision[i, 3]:.4f}\")\n",
    "    print(f\"Average Time taken: {average_times[i]:.4f} seconds\\n\")\n",
    "\n"
   ]
  },
  {
   "cell_type": "code",
   "execution_count": 339,
   "id": "e805f576-5125-4159-924d-1ff4537f96c8",
   "metadata": {},
   "outputs": [],
   "source": [
    "import matplotlib.pyplot as plt\n",
    "import numpy as np\n",
    "from matplotlib.backends.backend_pdf import PdfPages\n",
    "\n",
    "# Create a PDF to save the plots\n",
    "with PdfPages('precision_at_k.pdf') as pdf_pages:\n",
    "\n",
    "    # First plot (Precision at different ranks)\n",
    "    fig, ax = plt.subplots(figsize=(10, 6))\n",
    "    p_values = [0, 0.1, 0.3, 0.5, 0.7, 0.9]\n",
    "    labels = ['Precision at 10', 'Precision at 5', 'Precision at 3', 'Precision at 1']\n",
    "\n",
    "    for i in range(4):\n",
    "        ax.plot(p_values, average_precision[:, i], label=labels[i], marker='o')\n",
    "\n",
    "    ax.set_xlabel('p Value')\n",
    "    ax.set_ylabel('Precision')\n",
    "    ax.set_title('Precision at different ranks (1, 3, 5, 10) for different p values')\n",
    "    ax.legend()\n",
    "\n",
    "    plt.grid(True)\n",
    "    pdf_pages.savefig(fig)  # Save the first plot\n",
    "    plt.close(fig)"
   ]
  },
  {
   "cell_type": "code",
   "execution_count": 338,
   "id": "d8409a19-0384-4c88-ba87-52ed8a9eec12",
   "metadata": {},
   "outputs": [
    {
     "name": "stderr",
     "output_type": "stream",
     "text": [
      "No artists with labels found to put in legend.  Note that artists whose label start with an underscore are ignored when legend() is called with no argument.\n"
     ]
    }
   ],
   "source": [
    "    # Second plot (Computation Time for different p values)\n",
    "with PdfPages('computation_time.pdf') as pdf_pages:\n",
    "        fig, ax2 = plt.subplots(figsize=(10, 6))\n",
    "    \n",
    "        ax2.plot(p_values, average_times, marker='o', color='b')\n",
    "    \n",
    "        ax2.set_xlabel('p Value')\n",
    "        ax2.set_ylabel('Time (s)')\n",
    "        ax2.set_title('Computation Time for different p values')\n",
    "        ax2.set_ylim(0, 0.5)  # Set y-axis to range from 0 to 50\n",
    "        ax2.legend()\n",
    "    \n",
    "        plt.grid(True)\n",
    "        pdf_pages.savefig(fig)  # Save the second plot\n",
    "        plt.close(fig)"
   ]
  },
  {
   "cell_type": "code",
   "execution_count": 334,
   "id": "d5958a74-bc7d-4d0f-be1c-19765be8e337",
   "metadata": {},
   "outputs": [
    {
     "name": "stderr",
     "output_type": "stream",
     "text": [
      "C:\\Users\\Tobia\\AppData\\Local\\Temp\\ipykernel_24956\\1697667806.py:6: MatplotlibDeprecationWarning: Keeping empty pdf files is deprecated since 3.8 and support will be removed two minor releases later.\n",
      "  with PdfPages('precision_at_k.pdf') as pdf_pages:\n"
     ]
    },
    {
     "ename": "ValueError",
     "evalue": "x and y must have same first dimension, but have shapes (6,) and (1,)",
     "output_type": "error",
     "traceback": [
      "\u001b[1;31m---------------------------------------------------------------------------\u001b[0m",
      "\u001b[1;31mValueError\u001b[0m                                Traceback (most recent call last)",
      "Cell \u001b[1;32mIn[334], line 13\u001b[0m\n\u001b[0;32m     10\u001b[0m p_values \u001b[38;5;241m=\u001b[39m [\u001b[38;5;241m0\u001b[39m, \u001b[38;5;241m0.1\u001b[39m, \u001b[38;5;241m0.3\u001b[39m, \u001b[38;5;241m0.5\u001b[39m, \u001b[38;5;241m0.7\u001b[39m, \u001b[38;5;241m0.9\u001b[39m]\n\u001b[0;32m     11\u001b[0m labels \u001b[38;5;241m=\u001b[39m [\u001b[38;5;124m'\u001b[39m\u001b[38;5;124mTime in (s)\u001b[39m\u001b[38;5;124m'\u001b[39m]\n\u001b[1;32m---> 13\u001b[0m ax\u001b[38;5;241m.\u001b[39mplot(p_values, average_times[i], label\u001b[38;5;241m=\u001b[39mlabels[i], marker\u001b[38;5;241m=\u001b[39m\u001b[38;5;124m'\u001b[39m\u001b[38;5;124mo\u001b[39m\u001b[38;5;124m'\u001b[39m)\n\u001b[0;32m     15\u001b[0m ax\u001b[38;5;241m.\u001b[39mset_xlabel(\u001b[38;5;124m'\u001b[39m\u001b[38;5;124mp Value\u001b[39m\u001b[38;5;124m'\u001b[39m)\n\u001b[0;32m     16\u001b[0m ax\u001b[38;5;241m.\u001b[39mset_ylabel(\u001b[38;5;124m'\u001b[39m\u001b[38;5;124mPrecision\u001b[39m\u001b[38;5;124m'\u001b[39m)\n",
      "File \u001b[1;32m~\\anaconda3\\Lib\\site-packages\\matplotlib\\axes\\_axes.py:1721\u001b[0m, in \u001b[0;36mAxes.plot\u001b[1;34m(self, scalex, scaley, data, *args, **kwargs)\u001b[0m\n\u001b[0;32m   1478\u001b[0m \u001b[38;5;250m\u001b[39m\u001b[38;5;124;03m\"\"\"\u001b[39;00m\n\u001b[0;32m   1479\u001b[0m \u001b[38;5;124;03mPlot y versus x as lines and/or markers.\u001b[39;00m\n\u001b[0;32m   1480\u001b[0m \n\u001b[1;32m   (...)\u001b[0m\n\u001b[0;32m   1718\u001b[0m \u001b[38;5;124;03m(``'green'``) or hex strings (``'#008000'``).\u001b[39;00m\n\u001b[0;32m   1719\u001b[0m \u001b[38;5;124;03m\"\"\"\u001b[39;00m\n\u001b[0;32m   1720\u001b[0m kwargs \u001b[38;5;241m=\u001b[39m cbook\u001b[38;5;241m.\u001b[39mnormalize_kwargs(kwargs, mlines\u001b[38;5;241m.\u001b[39mLine2D)\n\u001b[1;32m-> 1721\u001b[0m lines \u001b[38;5;241m=\u001b[39m [\u001b[38;5;241m*\u001b[39m\u001b[38;5;28mself\u001b[39m\u001b[38;5;241m.\u001b[39m_get_lines(\u001b[38;5;28mself\u001b[39m, \u001b[38;5;241m*\u001b[39margs, data\u001b[38;5;241m=\u001b[39mdata, \u001b[38;5;241m*\u001b[39m\u001b[38;5;241m*\u001b[39mkwargs)]\n\u001b[0;32m   1722\u001b[0m \u001b[38;5;28;01mfor\u001b[39;00m line \u001b[38;5;129;01min\u001b[39;00m lines:\n\u001b[0;32m   1723\u001b[0m     \u001b[38;5;28mself\u001b[39m\u001b[38;5;241m.\u001b[39madd_line(line)\n",
      "File \u001b[1;32m~\\anaconda3\\Lib\\site-packages\\matplotlib\\axes\\_base.py:303\u001b[0m, in \u001b[0;36m_process_plot_var_args.__call__\u001b[1;34m(self, axes, data, *args, **kwargs)\u001b[0m\n\u001b[0;32m    301\u001b[0m     this \u001b[38;5;241m+\u001b[39m\u001b[38;5;241m=\u001b[39m args[\u001b[38;5;241m0\u001b[39m],\n\u001b[0;32m    302\u001b[0m     args \u001b[38;5;241m=\u001b[39m args[\u001b[38;5;241m1\u001b[39m:]\n\u001b[1;32m--> 303\u001b[0m \u001b[38;5;28;01myield from\u001b[39;00m \u001b[38;5;28mself\u001b[39m\u001b[38;5;241m.\u001b[39m_plot_args(\n\u001b[0;32m    304\u001b[0m     axes, this, kwargs, ambiguous_fmt_datakey\u001b[38;5;241m=\u001b[39mambiguous_fmt_datakey)\n",
      "File \u001b[1;32m~\\anaconda3\\Lib\\site-packages\\matplotlib\\axes\\_base.py:499\u001b[0m, in \u001b[0;36m_process_plot_var_args._plot_args\u001b[1;34m(self, axes, tup, kwargs, return_kwargs, ambiguous_fmt_datakey)\u001b[0m\n\u001b[0;32m    496\u001b[0m     axes\u001b[38;5;241m.\u001b[39myaxis\u001b[38;5;241m.\u001b[39mupdate_units(y)\n\u001b[0;32m    498\u001b[0m \u001b[38;5;28;01mif\u001b[39;00m x\u001b[38;5;241m.\u001b[39mshape[\u001b[38;5;241m0\u001b[39m] \u001b[38;5;241m!=\u001b[39m y\u001b[38;5;241m.\u001b[39mshape[\u001b[38;5;241m0\u001b[39m]:\n\u001b[1;32m--> 499\u001b[0m     \u001b[38;5;28;01mraise\u001b[39;00m \u001b[38;5;167;01mValueError\u001b[39;00m(\u001b[38;5;124mf\u001b[39m\u001b[38;5;124m\"\u001b[39m\u001b[38;5;124mx and y must have same first dimension, but \u001b[39m\u001b[38;5;124m\"\u001b[39m\n\u001b[0;32m    500\u001b[0m                      \u001b[38;5;124mf\u001b[39m\u001b[38;5;124m\"\u001b[39m\u001b[38;5;124mhave shapes \u001b[39m\u001b[38;5;132;01m{\u001b[39;00mx\u001b[38;5;241m.\u001b[39mshape\u001b[38;5;132;01m}\u001b[39;00m\u001b[38;5;124m and \u001b[39m\u001b[38;5;132;01m{\u001b[39;00my\u001b[38;5;241m.\u001b[39mshape\u001b[38;5;132;01m}\u001b[39;00m\u001b[38;5;124m\"\u001b[39m)\n\u001b[0;32m    501\u001b[0m \u001b[38;5;28;01mif\u001b[39;00m x\u001b[38;5;241m.\u001b[39mndim \u001b[38;5;241m>\u001b[39m \u001b[38;5;241m2\u001b[39m \u001b[38;5;129;01mor\u001b[39;00m y\u001b[38;5;241m.\u001b[39mndim \u001b[38;5;241m>\u001b[39m \u001b[38;5;241m2\u001b[39m:\n\u001b[0;32m    502\u001b[0m     \u001b[38;5;28;01mraise\u001b[39;00m \u001b[38;5;167;01mValueError\u001b[39;00m(\u001b[38;5;124mf\u001b[39m\u001b[38;5;124m\"\u001b[39m\u001b[38;5;124mx and y can be no greater than 2D, but have \u001b[39m\u001b[38;5;124m\"\u001b[39m\n\u001b[0;32m    503\u001b[0m                      \u001b[38;5;124mf\u001b[39m\u001b[38;5;124m\"\u001b[39m\u001b[38;5;124mshapes \u001b[39m\u001b[38;5;132;01m{\u001b[39;00mx\u001b[38;5;241m.\u001b[39mshape\u001b[38;5;132;01m}\u001b[39;00m\u001b[38;5;124m and \u001b[39m\u001b[38;5;132;01m{\u001b[39;00my\u001b[38;5;241m.\u001b[39mshape\u001b[38;5;132;01m}\u001b[39;00m\u001b[38;5;124m\"\u001b[39m)\n",
      "\u001b[1;31mValueError\u001b[0m: x and y must have same first dimension, but have shapes (6,) and (1,)"
     ]
    },
    {
     "data": {
      "image/png": "[encoded data removed]",
      "text/plain": [
       "<Figure size 1000x600 with 1 Axes>"
      ]
     },
     "metadata": {},
     "output_type": "display_data"
    }
   ],
   "source": [
    "import matplotlib.pyplot as plt\n",
    "import numpy as np\n",
    "from matplotlib.backends.backend_pdf import PdfPages\n",
    "\n",
    "# Create a PDF to save the plots\n",
    "with PdfPages('precision_at_k.pdf') as pdf_pages:\n",
    "\n",
    "    # First plot (Precision at different ranks)\n",
    "    fig, ax = plt.subplots(figsize=(10, 6))\n",
    "    p_values = [0, 0.1, 0.3, 0.5, 0.7, 0.9]\n",
    "    labels = ['Time in (s)']\n",
    "\n",
    "    ax.plot(p_values, average_times[i], label=labels[i], marker='o')\n",
    "\n",
    "    ax.set_xlabel('p Value')\n",
    "    ax.set_ylabel('Precision')\n",
    "    ax.set_title('Precision at different ranks (1, 3, 5, 10) for different p values')\n",
    "    ax.legend()\n",
    "\n",
    "    plt.grid(True)\n",
    "    pdf_pages.savefig(fig)  # Save the first plot\n",
    "    plt.close(fig)"
   ]
  },
  {
   "cell_type": "code",
   "execution_count": 337,
   "id": "e5339721-9491-4ec5-a569-7da3b68ba4de",
   "metadata": {},
   "outputs": [
    {
     "name": "stdout",
     "output_type": "stream",
     "text": [
      "[0.48112059 0.45995869 0.41694276 0.36711639 0.3010758  0.20376752]\n"
     ]
    }
   ],
   "source": [
    "print(average_times)"
   ]
  },
  {
   "cell_type": "code",
   "execution_count": 131,
   "id": "92ce1b87-3788-4753-83a0-8f8878aa2635",
   "metadata": {},
   "outputs": [
    {
     "name": "stdout",
     "output_type": "stream",
     "text": [
      "US benchmark equity indexes were lower intraday as traders assessed the latest economic data. The\n",
      "Equity Markets Fall Intraday Ahead of Nvidia Earnings\n",
      "Wells Fargo Raises S&P 500 Target Level for Next Year Amid Economic Strength, Policy Changes\n",
      "3\n"
     ]
    }
   ],
   "source": [
    "count=0\n",
    "for i in range(len(df)):\n",
    "    article = df.iloc[i][\"content\"]\n",
    "    if len(article) < 100:\n",
    "        count+=1\n",
    "        print(article)\n",
    "print(count)"
   ]
  },
  {
   "cell_type": "code",
   "execution_count": 174,
   "id": "ae2e3221-caaf-4727-8009-83182f234c43",
   "metadata": {},
   "outputs": [
    {
     "data": {
      "text/plain": [
       "'Stock up the eggnog\\xa0—\\xa0you\\'re gonna need it. The holidays are here and that means joy to the world, coming together with your loved ones and spending a ton of money on gifts. Related: Fed inflation gauge ticked higher in October amid consumer spending boost This is the most important time of the year for retailers, given the spike in consumer spending. Holiday shopping is crucial for the chains\\' overall sales. The National Retail Federation\\xa0expects holiday sales to grow between 2.5% and 3.5% from a year earlier, to a total of $980 billion from $955 billion. The forecast includes e-commerce, which is expected to grow 8% to 9%, totaling between $295 billion and $300 billion. 🚨Don’t Miss this amazing Black Friday Move! Get 60% off TheStreet Pro. Act now before it’s gone 😲 “I am optimistic about the pace of economic activity in the final quarter of the year,” Jack Kleinhenz, the trade group\\'s chief economist, said. \"Given third-quarter spending performance and comprehensive upward revisions in late September for income, spending and the savings rate, I have increased confidence in the economy’s strength and the near-term outlook,\" he added. Americans voted to send Donald Trump back to the White House in January. The president-elect wasted no time in rattling a few cages when he vowed to impose a 25% tax on all imports from Mexico and Canada, along with an additional 10% tax on imports from China. Several retailers recently released their quarterly results and investment firms have been adjusting their ratings and stock prices accordingly. Bloomberg/Getty Images Kohl\\'s\\xa0 (KSS) \\xa0started the holidays off on a sour note, as the department-store chain missed Wall Street\\'s fiscal-third-quarter earnings expectations, lowered its full-year guidance\\xa0and said CEO Tom Kingsbury would step down as of Jan. 15. Kohl’s shares are down 45% this year and off nearly 32% from a year ago. Related: Home Depot stock leaps after Q3 earnings, 2024 forecast Kingsbury spoke bluntly to analysts about the results during the company\\'s earnings call. \"They did not meet our expectations and were frankly disappointing,\" Kingsbury said. \"Sales have been a challenge for us throughout 2024 and weakened further in Q3. Over the last several quarters, we have implemented a significant amount of change across our assortment, value strategies, and in-store experience.\" Kingsbury, who was president and CEO of Burlington Stores\\xa0 (BURL) \\xa0from 2008 to 2018, said Kohl\\'s leadership believed these actions would make the company more competitive in the long term, But he added that \"we undervalued the short-term impact this change could have on our sales performance.\" \"We are not satisfied with our performance and are taking aggressive action to reverse the sales declines,\" he said. Kingsbury was the company\\'s interim CEO starting in late 2022, succeeding former CEO Michelle Gass, who took the helm at Levi Strauss\\xa0 (LEVI) \\xa0in November 2022. He became permanent CEO in early 2023. Ashley Buchanan will take over as CEO effective Jan.15. Buchanan has been CEO of arts and crafts retailer Michaels since 2020; prior to that post she held senior executive roles at Walmart\\xa0 (WMT) \\xa0and the retail giant\\'s membership warehouse chain Sam\\'s Club during her 13 years at the company. Kingsbury will stay on in an advisory role and remain a director through his retirement in May. Baird downgraded Kohl\\'s to neutral from outperform with a price target of $18, down from $25, according to The Fly. The investment firm said that\\xa0a number of issues reduce its conviction in the value case for KSS shares: ongoing pressure in Kohl\\'s core apparel and footwear business, implying share losses during the back-to-school period; greater comparables volatility as management iterates on changes to the operating model, and the pending change of CEO. Baird analysts see opportunity for comparisons and margins to stabilize and improve as changes take hold, but with the timeline uncertain amid intense competition, the stock\\'s risk/reward\\xa0 balance appears even today. Bank of America Securities analyst Lorraine Hutchinson cut the firm\\'s price target on Kohl\\'s to $15 from $18 and affirmed an underperform rating on the shares. Related: Billionaire Bill Ackman makes big bet on major consumer stock The move came after management cut fiscal 2024 guidance for sales, comparable sales, operating margin and EPS to reflect continued challenges in the core business and expectations for a highly competitive holiday. Hutchinson also noted the new CEO announcement and while she says Buchanan\\'s customer-facing expertise from Michaels should provide value, the analyst expects many of Kohl\\'s core challenges to remain. Burlington Stores\\xa0reported higher sales in the latest quarter and said the holiday selling season has started strong. Total sales increased 11% in the fiscal third quarter on top of 12% sales growth last year, CEO Michael O\\'Sullivan said. \"The major driver of this growth is our new-store opening program,\" O\\'Sullivan told analysts. \"We continue to be very pleased with the performance of our new stores, and we are excited by the strength of our new-store pipeline.\" The executive said that the company’s back-to-school sales dropped significantly due to\\xa0temperatures having been much warmer than they were a year earlier. Related: Veteran fund manager issues dire warning on stocks \"Unseasonably warm temperatures do not just impact the [comparable] sales trend for cold-weather merchandise,\" O\\'Sullivan said. \"They\\'re also a drag on overall traffic coming into the store, which affects every business. Anyway, even leaving aside this additional point, we are very encouraged with our underlying comp sales trend.\" B of A\\'s Hutchinson raised the investment firm\\'s price target on Burlington Stores to $350 from $315 and reiterated a buy rating on the shares. Warm weather and hurricanes hurt Q3 comparable sales at Burlington. But the investment firm models fiscal 2024 sales growth of 8%, driven by a 2.5% comparable and an outsized benefit from productive new stores, adding that Burlington has \"outsized sales and margin recovery opportunities.\" Evercore ISI raised the firm\\'s price target on Burlington Stores to $340 from $315 and kept an outperform rating on the shares. More Retail Stocks: Forget Caitlin Clark, Adidas banks on a new basketball phenom Popular handbag brand makes big announcement about future Amazon unveils new service to compete with Temu Even with outsized weather exposure, Burlington stayed within same-store sales guidance and managed the profit and loss statement well. That\\'s despite what Evercore says was \"the biggest intraquarter peak-to-trough same-store-sales deceleration the off-pricers have seen in years\" in Q3. While weather was slightly worse than expected in Q3, the firm said it sees no change to the long-term story and doesn\\'t think comparable sales in a quarter with severe weather headwinds are \"a true indicator of the progress being made to sustain competitive off-price comps and with relatively strong margin performance.\" Best Buy\\xa0 (BBY) \\xa0missed Wall Street’s third-quarter revenue expectations and cut its full-year sales forecast. The company’s shares are up nearly 14% year-to-date and up 28% from a year ago. \"Our sales performance was impacted by overall softer-than-forecasted customer demand during September and October,\" CEO Corie Sue Barry told analysts during the company\\'s earnings call. \"We attribute this to a combination of overall ongoing macro uncertainty, customers waiting for deals and sales, and distraction during the runup to the election, particularly in nonessential categories.\" Related: Warren Buffett just sold 3 massively popular stocks Barry said the electronics retailer had expected lower demand between sales, \"but the impact was even steeper than we estimated.\" \"In the last few weeks, as the holiday sales begun and the election is behind us, we have seen customer demand increase again,\" she said. \"From a category perspective, we drove comparable sales growth in computing, tablets, and services.\" Loop Capital analyst Anthony Chukumba lowered the investment firm\\'s price target on Best Buy to $100 from $110 while maintaining a buy rating on the shares. Best Buy\\'s Q3 results came up short of the firm\\'s expectations, driven by a disappointing revenue line, but the analyst said he was encouraged by the strong start to the holiday selling season and says management\\'s Q4 guidance could end up being conservative. At the same time, Chukumba said, Best Buy stock is likely to have a significant overhang until the market receives more clarity on Trump administration tariffs since roughly 60% of the company\\'s costs of goods sold are sourced from China. Cost of goods sold refer to the direct costs of goods a company sells. Truist lowered the firm\\'s price target on Best Buy to $95 from $107 and affirmed a hold rating on the shares. Best Buy\\'s Q3 sales and EPS were modestly below the firm\\'s estimates, but margins were solid, and patterns suggest that consumers continue to seek \"value\" during events with deeper lulls in between, the firm told investors in a research note. While there have been some \"green shoots,\" like positive mid-single-digit-percent comparables in laptops and tablets, and artificial intelligence could provide an incremental lever, natural demand trends have yet to really inflect even after 12 quarters of negative comparables, Truist said. Related: Veteran fund manager sees world of pain coming for stocks'"
      ]
     },
     "execution_count": 174,
     "metadata": {},
     "output_type": "execute_result"
    }
   ],
   "source": [
    "df.iloc[33][\"content\"]"
   ]
  },
  {
   "cell_type": "code",
   "execution_count": 297,
   "id": "5f4015b4-d852-44e2-af4a-0434c96ccc74",
   "metadata": {},
   "outputs": [
    {
     "data": {
      "text/plain": [
       "'The vibe on Wall Street post-Donald Trump\\'s reelection: Bring on the good times. “This election was about whether you were more scared of four years of the same or more scared of four years of change,” Apollo Global (APO) co-founder and CEO Marc Rowan said at Yahoo Finance\\'s Invest conference. (Disclosure: Yahoo Finance is owned by Apollo Global Management.) Rowan, who is now being floated as a potential Treasury Secretary pick in the incoming Trump administration, added that the \"market\\'s verdict\\'s been rendered.” “I think this administration has a remarkable chance to really pivot the country to take advantage of all the inherent positives that we have,” Rowan said. Rowan’s optimism matches that of the market, with the S&P 500 rallying above 6,000 in the best post-election day melt-up of all time. Experts say the rally is based in part on Trump\\'s policy proposals around making tax cuts permanent and loosening regulations. But that rally and optimism may be ignoring a tariffs-led headwind. The top 100 firms in the S&P 500 by market cap get 8% of their revenue on average from China. If Trump’s proposed 60% tariff on Chinese imports comes to fruition, profit margins and stock prices could slip, though it’s more likely tariffs will double from current levels, according to Bloomberg Economics. Read more: How do tariffs work, and who really pays them? It\\'s a concern Deutsche Bank chief US economist Matthew Luzzetti echoed on Yahoo Finance\\'s Opening Bid podcast. “Markets are telling you more or less Donald Trump means somewhat good for growth, somewhat inflationary,” Bridgewater Associates co-chief investment officer Karen Karniol-Tambour said at Invest, warning that immigration restrictions and a lift to the deficit are inflationary. To understand when the deficit devil over the shoulder becomes a zombie in front of you, BlackRock’s Rick Rieder watches foreign demand at Treasury auctions. Despite these risks and elevated equity multiples, he’s still bullish. \"The technicals for equities are crazy, … crazy good,\" Rieder said at Invest. \"I\\'ve learned over my career the technicals win. ... Even if you believe in the fundamentals, the technicals win more.\" An easing cycle from the Federal Reserve that the market believes could bring the US to a soft landing also doesn’t hurt. Though Judy Shelton, a former economic adviser and Trump appointee to the Fed, didn’t want to throw the Fed a victory party anytime soon. “We’ve gone through the worst inflation in 40 years, and when it comes to accountability … I don’t think that anyone got fired at the Fed,” Shelton said at the conference. Shelton also called into question the Fed’s role moving forward. “I think this is an interesting time when people are looking at the appropriate role of the Federal Reserve … and maybe rethinking whether we want … [the interest rate and the price of capital] to be set by a dozen people voting eight times a year,” Shelton said, adding she is also optimistic on the next Trump presidency. Bank of America (BAC) CEO Brian Moynihan sees potential policies under Trump as being economically favorable. \"I think what\\'s really driving the fundamental activity in the economy is the things that make America great,\" Moynihan explained. \"Capitalism. A consumer is employed and earning money and spending, and credit is widely available. Those are what drives this capital market, and investors like all the people here [at Invest] are putting [capital] to work. And that\\'s what makes America great. And having a set of policies to enhance that is a good thing.\" My interview with billionaire climate investor and former 2020 presidential candidate Tom Steyer also left investors on both sides of the aisle with something to be hopeful about. \"To a very large extent, it doesn\\'t matter” who is in the White House, Steyer argued about the clean energy transition. As he sees it, free market dynamics will allow for cheaper, faster, better products to win. As Trump continues to announce Cabinet positions and the market reacts to how personnel choices will inform policy, perhaps investors would be wise to remember that regardless of who is in the White House, stocks tend to go up over time. Click here for in-depth analysis of the latest stock market news and events moving stock prices Read the latest financial and business news from Yahoo Finance'"
      ]
     },
     "execution_count": 297,
     "metadata": {},
     "output_type": "execute_result"
    }
   ],
   "source": [
    "df.iloc[528][\"content\"]"
   ]
  },
  {
   "cell_type": "code",
   "execution_count": 166,
   "id": "8bfb90d7-9737-49f9-ba8b-6e1d9eee60f0",
   "metadata": {},
   "outputs": [
    {
     "data": {
      "text/plain": [
       "\"(Bloomberg) -- SoftBank to stake in acquiring up to $1.5 billion shares employees, according to with the matter. Most Read from New York ‘Living Breakwaters’ Seas City, Car-Free Options In Designed for Women’s Sports Takes NYC's Underground System Key NYC Gets for Homes $5 Billion Pledge The will a tender for the to shares they OpenAI’s billion October, but pushed a larger allocation at time, one of people, asking to be named the negotiations founder has vowed investments as his company regains after OpenAI, which jumped out to early leadership the with at billion last fundraising. not how stock SoftBank be able buy from may hold onto they forecast ahead. and didn’t respond to requests comment of business The tender offer is to close this week, according to first reported the Bloomberg When Hospitals Big Team Budget-Slashing MAGA Billionaires Takes Shape Flying Feels Worse Charm Bracelet Shop Viral Schools Growing Enrollment ©2024\""
      ]
     },
     "execution_count": 166,
     "metadata": {},
     "output_type": "execute_result"
    }
   ],
   "source": [
    "df.iloc[55][\"reduced_content_p=0.5\"]"
   ]
  },
  {
   "cell_type": "code",
   "execution_count": 194,
   "id": "1a30ca4a-a78f-4dfb-8c00-a7d6671ab9fd",
   "metadata": {},
   "outputs": [
    {
     "data": {
      "text/plain": [
       "'How did the potential cease-fire between Israel and Hezbollah affect oil prices, and why are traders anticipating a reduction in supply risks?'"
      ]
     },
     "execution_count": 194,
     "metadata": {},
     "output_type": "execute_result"
    }
   ],
   "source": [
    "queries.iloc[22][\"query\"]"
   ]
  },
  {
   "cell_type": "code",
   "execution_count": 246,
   "id": "062cd811-48e0-4934-9f85-bee597ed1b86",
   "metadata": {},
   "outputs": [
    {
     "data": {
      "text/plain": [
       "id                                                                     161\n",
       "title                                                        Yahoo Finance\n",
       "url                      https://finance.yahoo.com/news/dei-rollback-re...\n",
       "date                                            Tue, Nov 26, 2024, 9:07 AM\n",
       "content                  Walmart (WMT) is scaling back some of its dive...\n",
       "reduced_content_p=0.1    Walmart (WMT) is scaling back some of its dive...\n",
       "reduced_content_p=0.3    is scaling back some of its diversity initiati...\n",
       "reduced_content_p=0.5    Walmart is of diversity initiatives, one of th...\n",
       "reduced_content_p=0.7    scaling prominent companies make as largest th...\n",
       "reduced_content_p=0.9    chain it using participate a be sunsetted mark...\n",
       "Name: 161, dtype: object"
      ]
     },
     "execution_count": 246,
     "metadata": {},
     "output_type": "execute_result"
    }
   ],
   "source": [
    "df.iloc[161]"
   ]
  },
  {
   "cell_type": "code",
   "execution_count": 244,
   "id": "8c450022-c85e-4c5f-9430-b37258cd096d",
   "metadata": {},
   "outputs": [
    {
     "data": {
      "text/plain": [
       "id                                                                     218\n",
       "title                                                        Yahoo Finance\n",
       "url                      https://finance.yahoo.com/news/dei-rollback-re...\n",
       "date                                            Tue, Nov 26, 2024, 9:07 AM\n",
       "content                  Walmart (WMT) is scaling back some of its dive...\n",
       "reduced_content_p=0.1    Walmart (WMT) is scaling back some of its dive...\n",
       "reduced_content_p=0.3    Walmart (WMT) is back of diversity one of the ...\n",
       "reduced_content_p=0.5    scaling some one of companies yet to as activi...\n",
       "reduced_content_p=0.7    its of companies The Yahoo cease (diversity, a...\n",
       "reduced_content_p=0.9    of its one the companies about-face pressure a...\n",
       "Name: 218, dtype: object"
      ]
     },
     "execution_count": 244,
     "metadata": {},
     "output_type": "execute_result"
    }
   ],
   "source": [
    "df.iloc[218]"
   ]
  },
  {
   "cell_type": "code",
   "execution_count": 292,
   "id": "6682937e-b142-4d4a-807b-8144677d7902",
   "metadata": {},
   "outputs": [
    {
     "data": {
      "text/plain": [
       "'A new president will enter the White House in 2025, but some debates remain the same. Wall Street analysts are split over the Federal Reserve’s next moves on interest rates, dissecting recent remarks from policymakers as 2024 nears its end. With just one Federal Open Market Committee (FOMC) meeting left this year, Jerome Powell and his colleagues are wrapping up a period marked by the first rate cuts in the current cycle. Optimists are hoping for a year-end rate cut in December, while others urge caution. Some banks project a steady path of cuts in 2025, potentially bringing rates to a neutral level of around 3.25%. But not everyone agrees. Analysts at firms like Deutsche Bank warn that incoming Trump-era policies, such as inflationary tariffs, could stall further rate reductions. \"There\\'s two things. One is just the details of the underlying economy that we see now, which is the consumer has remained resilient ... the labor market looks more resilient and more stable than what we thought, and inflation has been higher over the last several months,\" said Matthew Luzzetti, chief U.S. economist at Deutsche Bank in an interview with Bloomberg TV Tuesday. \"I think you\\'ll see that when the Fed updates their forecasts. The unemployment is going to come down, growth is going to come up, inflation is going to come up.\" Luzzetti added that these factors would likely lead to a pause in the Fed\\'s rate-cutting strategy, but continued, the new policy would compound these factors. \"Overlay with that policy changes that we expect: extensions of tax cuts, perhaps further tax cuts, tariff policy which lifts inflation. All of that leads to this dynamic of stronger growth, higher inflation that stays above 2.5% and a neutral policy rate that\\'s closer to 4% and the Fed\\'s above 4.\" December\\'s meeting coincides with the Fed\\'s summary of economic projections, which is when the FOMC updates analysts on its forecasts for inflation, unemployment, growth and more. Updates reflecting an inflationary environment are unlikely to be inked into December\\'s projection, Luzzetti added, and will instead be included in the next scheduled forecast advisory in March. Luzzetti\\'s take is at odds with some of his peers on Wall Street. Brian Rose, UBS\\'s senior U.S. economist, for example, is sticking by his call for continued cuts throughout next year. On Tuesday, he wrote in a note seen by Fortune: \"The market has priced out some Fed rate cuts recently, but we still expect the Fed to cut rates a total of 125 basis points by the end of 2025, bringing its target range to 3.25-3.5%, in line with our estimate of neutral. \"However, if inflation proves to be stickier than we expect, then the\\xa0Fed\\xa0would likely end up leaving rates closer to 4%.” While all FOMC members are invited to share their thoughts with the committee, only 12 have voting power. This alternates year-to-year, and in 2025, Chicago Fed President Austan Goolsbee will have voting rights. With geopolitical tensions still high heading into the new year—throwing into question supply-side stability coupled with potentially inflationary supply policies—President Goolsbee outlined that he\\'s ready to deal with the ripple effects of such events. Speaking to Matthew Klein of The Overshoot, President Goolsbee said: \"You have to figure out whether these are temporary supply shocks or permanent supply shocks. That matters a lot. \"And you have to figure out, is this a one-time cost increase but a temporary inflation shock, or is this something that’s going to keep spiraling and gets flooded into expectations?\" He explained: \"The conventional wisdom ... was you don’t tighten into a supply shock, but you try to prevent the secondary impacts on inflation. \"The direct impact of higher oil prices, there’s nothing you can do about that. You’re going to get inflation from it. But you try to prevent wage-price spiraling, you try to prevent it from getting folded into expectations where you can’t get rid of it. That’s still probably right. \"In a way we can’t yet update conventional wisdom for this episode until it’s done and we’ve actually figured out how much was supply and how much was demand.\" This story was originally featured on Fortune.com'"
      ]
     },
     "execution_count": 292,
     "metadata": {},
     "output_type": "execute_result"
    }
   ],
   "source": [
    "df.iloc[201][\"content\"]"
   ]
  },
  {
   "cell_type": "code",
   "execution_count": 294,
   "id": "61ef768d-7938-4f58-88b8-d6d3521de8ee",
   "metadata": {},
   "outputs": [
    {
     "data": {
      "text/plain": [
       "'The lead-up to Nvidia’s Wednesday’s earnings release produced plenty of jitters on Wall Street, despite expectations of incredible growth. The Q3 results, put out after the bell, did not prompt the massive sell-off some feared, with the AI chip leader’s stock dropping less than 2% in after-hours trading as management spoke to analysts on the call. Last quarter, a modest revenue and earnings beat was not enough to prevent a massive sell-the-news event, with the stock falling 18% in the week following the call. Some figured the stock could be due for another dip this time around with institutional investors eager to engage in profit-taking at the end the year. The stock held steady early Wednesday evening, however, as revenue jumped 94% year-over-year to $35.1 billion. The company’s January guidance also came in better than expected, with the chip maker indicating it is confident about the rollout of its next-generation Blackwell platform. “The age of AI is in full steam, propelling a global shift to NVIDIA computing,” Huang said in a press release. “Demand for Hopper and anticipation for Blackwell—in full production—are incredible as foundation model makers scale pretraining, post-training and inference.” When it comes to the stock’s short-term movement, investors might not be totally out of woods yet. Options trading ahead of the call implied a move just short of 8% in either direction, according to Bloomberg. That would roughly equate to a $300 billion swing in market value, bigger than the valuations of all but 24 of America’s largest companies. Regardless, shareholders have been massively rewarded, particularly if they bought before or around the release of ChatGPT in 2022 and subsequent GenAI boom. The stock has appreciate 800% over the last two years, with the company adding more than $3 trillion in market cap to\\xa0trade places\\xa0with\\xa0Apple\\xa0as the world’s largest company. Despite Nvidia’s growth running up against the law of large numbers, Wall Street appears optimistic about the stock continuing to reward investors. As of Wednesday afternoon, roughly 90% of analysts surveyed by Bloomberg (or 68 out of 76) had a buy rating on the stock, compared to 8% placing a hold and under 3% advising to sell. Based on recent earnings and the Street’s expectations, the stock is not incredibly expensive, either. Before the earnings call, the company’s blended price to earnings ratio sat just north of 36, per Bloomberg. That represented just a 24% premium to the semiconductor industry. Besides the GenAI trade, semis have struggled mightily, Baird managing director Ted Mortonson told Fortune before the call, amid a contraction in autos and flagging industrial demand in Europe. The PHLX Semiconductor Index, commonly known as SOX, is down about 8% year-to-date. “Nvidia has just been holding up the index,” said Mortonson, who is also a tech desk sector strategist. On Wednesday, the world’s hottest company continued to deliver. This story was originally featured on Fortune.com'"
      ]
     },
     "execution_count": 294,
     "metadata": {},
     "output_type": "execute_result"
    }
   ],
   "source": [
    "df.iloc[462][\"content\"]"
   ]
  },
  {
   "cell_type": "code",
   "execution_count": null,
   "id": "c2d608fe-7350-44b9-a235-755c9ca4aed7",
   "metadata": {},
   "outputs": [],
   "source": []
  }
 ],
 "metadata": {
  "kernelspec": {
   "display_name": "Python 3 (ipykernel)",
   "language": "python",
   "name": "python3"
  },
  "language_info": {
   "codemirror_mode": {
    "name": "ipython",
    "version": 3
   },
   "file_extension": ".py",
   "mimetype": "text/x-python",
   "name": "python",
   "nbconvert_exporter": "python",
   "pygments_lexer": "ipython3",
   "version": "3.11.7"
  }
 },
 "nbformat": 4,
 "nbformat_minor": 5
}
