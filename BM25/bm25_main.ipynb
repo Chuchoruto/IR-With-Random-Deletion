{
 "cells": [
  {
   "cell_type": "code",
   "execution_count": 6,
   "id": "c9f3ef46-72f7-40b0-8d48-05403cb83d27",
   "metadata": {},
   "outputs": [],
   "source": [
    "import pandas as pd\n",
    "from openai import OpenAI, Embedding\n",
    "from nltk import word_tokenize\n",
    "from nltk.corpus import stopwords\n",
    "import string\n",
    "import os\n"
   ]
  },
  {
   "cell_type": "code",
   "execution_count": 7,
   "id": "c9309815-57f5-4369-ad4a-cb7f3b483bb5",
   "metadata": {},
   "outputs": [
    {
     "ename": "FileNotFoundError",
     "evalue": "[WinError 3] Das System kann den angegebenen Pfad nicht finden: 'path/to/IR-With-Random-Deletion/'",
     "output_type": "error",
     "traceback": [
      "\u001b[1;31m---------------------------------------------------------------------------\u001b[0m",
      "\u001b[1;31mFileNotFoundError\u001b[0m                         Traceback (most recent call last)",
      "Cell \u001b[1;32mIn[7], line 1\u001b[0m\n\u001b[1;32m----> 1\u001b[0m os\u001b[38;5;241m.\u001b[39mchdir(\u001b[38;5;124m\"\u001b[39m\u001b[38;5;124mpath/to/IR-With-Random-Deletion/\u001b[39m\u001b[38;5;124m\"\u001b[39m)\n\u001b[0;32m      2\u001b[0m df \u001b[38;5;241m=\u001b[39m pd\u001b[38;5;241m.\u001b[39mread_csv(\u001b[38;5;124m\"\u001b[39m\u001b[38;5;124m11_20_2024_Articles.csv\u001b[39m\u001b[38;5;124m\"\u001b[39m)\n",
      "\u001b[1;31mFileNotFoundError\u001b[0m: [WinError 3] Das System kann den angegebenen Pfad nicht finden: 'path/to/IR-With-Random-Deletion/'"
     ]
    }
   ],
   "source": [
    "os.chdir(\"path/to/IR-With-Random-Deletion/\")\n",
    "df = pd.read_csv(\"11_20_2024_Articles.csv\") \n",
    "#openai_client = OpenAI(api_key = 'insert-api-key')"
   ]
  },
  {
   "cell_type": "code",
   "execution_count": 149,
   "id": "cd1af5a9-f7d1-4361-9813-c25f14ca4cea",
   "metadata": {},
   "outputs": [
    {
     "name": "stdout",
     "output_type": "stream",
     "text": [
      "           title                                                url  \\\n",
      "0  Yahoo Finance  https://finance.yahoo.com/news/veteran-fund-ma...   \n",
      "1  Yahoo Finance  https://finance.yahoo.com/news/messenger-gets-...   \n",
      "2  Yahoo Finance  https://finance.yahoo.com/news/social-media-ba...   \n",
      "3  Yahoo Finance  https://finance.yahoo.com/news/snowflake-share...   \n",
      "4  Yahoo Finance  https://finance.yahoo.com/news/baidu-bulls-ret...   \n",
      "\n",
      "                          date  \\\n",
      "0   Wed, Nov 20, 2024, 3:33 PM   \n",
      "1  Wed, Nov 20, 2024, 10:06 AM   \n",
      "2   Wed, Nov 20, 2024, 5:00 PM   \n",
      "3   Wed, Nov 20, 2024, 1:30 PM   \n",
      "4   Wed, Nov 20, 2024, 4:28 PM   \n",
      "\n",
      "                                             content  \n",
      "0  We are experiencing some temporary issues. The...  \n",
      "1  We are experiencing some temporary issues. The...  \n",
      "2  We are experiencing some temporary issues. The...  \n",
      "3  We are experiencing some temporary issues. The...  \n",
      "4  We are experiencing some temporary issues. The...  \n"
     ]
    }
   ],
   "source": [
    "print(df.head())"
   ]
  },
  {
   "cell_type": "code",
   "execution_count": 150,
   "id": "0da13a85-9dc2-44d1-9f59-99e9048666fa",
   "metadata": {},
   "outputs": [],
   "source": [
    "from openai import OpenAI, Embedding\n",
    "\n",
    "\n",
    "def summarize_doc(openai_client, text):\n",
    "    query = \"Summarize this into less than 10 words\"\n",
    "\n",
    "    prompt = f\"Context:\\n{text}\\n\\nQuestion: {query}\\nAnswer:\"\n",
    "\n",
    "\n",
    "    completion = openai_client.chat.completions.create(\n",
    "        model=\"gpt-3.5-turbo-0125\",\n",
    "        messages=[\n",
    "        {\"role\": \"user\", \"content\": prompt}\n",
    "        ]\n",
    "    )\n",
    "\n",
    "    print(completion.choices[0].message)"
   ]
  },
  {
   "cell_type": "code",
   "execution_count": 151,
   "id": "20886afe-b16e-4163-9fed-208ad1bd8b81",
   "metadata": {},
   "outputs": [],
   "source": [
    "def preprocess_text(text):\n",
    "    \"\"\"Preprocess a single text input (either document or query).\"\"\"\n",
    "    stop_words = set(stopwords.words('english'))\n",
    "    stop_words.add('would')  # Add custom stop words if needed\n",
    "    translator = str.maketrans(string.punctuation, ' ' * len(string.punctuation))  # Replace punctuation with spaces\n",
    "    text_nopunct = text.translate(translator)  # Remove punctuation\n",
    "    words_list = text_nopunct.strip().split()  # Tokenize into words\n",
    "    filtered_words = [word.lower() for word in words_list if word.lower() not in stop_words and len(word) > 1]\n",
    "    return filtered_words\n",
    "\n",
    "def preprocess_df(df):\n",
    "    \"\"\"Preprocess a DataFrame column containing document content.\"\"\"\n",
    "    df[\"content\"] = df[\"content\"].apply(preprocess_text)\n",
    "    return df\n",
    "\n",
    "def preprocess_query(query):\n",
    "    \"\"\"Preprocess a query string.\"\"\"\n",
    "    return preprocess_text(query)"
   ]
  },
  {
   "cell_type": "code",
   "execution_count": 152,
   "id": "c5b70849-0d1c-46b2-ba3d-0fdcc50b17a4",
   "metadata": {},
   "outputs": [],
   "source": [
    "import bmp25\n",
    "import importlib\n",
    "\n",
    "# Reload the module after making changes\n",
    "importlib.reload(bmp25)\n",
    "\n",
    "# Initialize the BM25 instance\n",
    "\n",
    "def rank_query_bm25(bm25, query, top_k=5, summarize_docs=True):\n",
    "    # Display initial document details\n",
    "    print(\"=\" * 50)\n",
    "    print(\"📄 Document Sample:\")\n",
    "    print(df.head())\n",
    "    print(\"=\" * 50)\n",
    "    print(f\"📏 Total Documents: {len(bm25_instance.doc_lengths)}\")\n",
    "    print(f\"Preprocessed query: {query}\")\n",
    "    # Rank documents for a given query\n",
    "    ranked_indices, scores = bm25_instance.rank(query)\n",
    "\n",
    "    ranked_indices = ranked_indices[:top_k]\n",
    "    scores = scores[:top_k]\n",
    "\n",
    "    print(\"\\n🏆 Ranking Results:\")\n",
    "    print(\"=\" * 50)\n",
    "    for i, (doc_index, score) in enumerate(zip(ranked_indices, scores), start=1):\n",
    "        print(f\"⭐ Rank {i}:\")\n",
    "        print(f\"   - Document Index: {doc_index}\")\n",
    "        print(f\"   - BM25 Score: {score:.4f}\")\n",
    "        doc_content = df.iloc[doc_index][\"content\"]\n",
    "        if (summarize_docs):\n",
    "            summmary = summarize_doc(openai_client, doc_content)\n",
    "            print(f\"   - Document Content:\\n{summmary}\")\n",
    "        else:\n",
    "            print(f\"   - Document Content:\\n{doc_content}\")\n",
    "        print(\"-\" * 50)\n"
   ]
  },
  {
   "cell_type": "code",
   "execution_count": 153,
   "id": "205a7446-e860-48af-862b-ce8d59daaadb",
   "metadata": {},
   "outputs": [],
   "source": [
    "query = \"Why is Australia's monetary policy considered potent despite high household mortgage debt?\" #190\n",
    "query2 = \"What is Palo Alto Networks' revenue forecast for the second quarter, and how does it compare with analyst expectations?\" #34\n",
    "query3= \"How might institutional investments influence Bitcoin's price trajectory through 2025?\" #11\n",
    "\n",
    "query = query3"
   ]
  },
  {
   "cell_type": "code",
   "execution_count": 154,
   "id": "1ba9279a-b336-434e-b609-793049970d16",
   "metadata": {},
   "outputs": [
    {
     "name": "stdout",
     "output_type": "stream",
     "text": [
      "==================================================\n",
      "📄 Document Sample:\n",
      "           title                                                url  \\\n",
      "0  Yahoo Finance  https://finance.yahoo.com/news/veteran-fund-ma...   \n",
      "1  Yahoo Finance  https://finance.yahoo.com/news/messenger-gets-...   \n",
      "2  Yahoo Finance  https://finance.yahoo.com/news/social-media-ba...   \n",
      "3  Yahoo Finance  https://finance.yahoo.com/news/snowflake-share...   \n",
      "4  Yahoo Finance  https://finance.yahoo.com/news/baidu-bulls-ret...   \n",
      "\n",
      "                          date  \\\n",
      "0   Wed, Nov 20, 2024, 3:33 PM   \n",
      "1  Wed, Nov 20, 2024, 10:06 AM   \n",
      "2   Wed, Nov 20, 2024, 5:00 PM   \n",
      "3   Wed, Nov 20, 2024, 1:30 PM   \n",
      "4   Wed, Nov 20, 2024, 4:28 PM   \n",
      "\n",
      "                                             content  \n",
      "0  [experiencing, temporary, issues, market, data...  \n",
      "1  [experiencing, temporary, issues, market, data...  \n",
      "2  [experiencing, temporary, issues, market, data...  \n",
      "3  [experiencing, temporary, issues, market, data...  \n",
      "4  [experiencing, temporary, issues, market, data...  \n",
      "==================================================\n",
      "📏 Total Documents: 219\n",
      "Preprocessed query: ['might', 'institutional', 'investments', 'influence', 'bitcoin', 'price', 'trajectory', '2025']\n",
      "\n",
      "🏆 Ranking Results:\n",
      "==================================================\n",
      "⭐ Rank 1:\n",
      "   - Document Index: 11\n",
      "   - BM25 Score: 20.0856\n",
      "   - Document Content:\n",
      "['experiencing', 'temporary', 'issues', 'market', 'data', 'page', 'currently', 'delayed', 'please', 'bear', 'us', 'address', 'restore', 'personalized', 'lists', 'michael', 'saylor', 'founder', 'microstrategy', 'stated', 'world’s', 'top', 'cryptocurrency', 'unlikely', 'plunge', '60', '000', 'short', 'term', 'citing', 'positive', 'price', 'momentum', 'bitcoin', 'experiencing', 'following', '2024', 'presidential', 'election', '“i', 'don’t', 'think', 'going', '60', '000', 'going', '30', '000', 'think', 'going', 'go', 'saylor', 'told', 'cnbc', 'time', 'writing', 'bitcoin', 'currently', 'trading', '94', '000', 'many', 'market', 'forecasters', 'anticipate', 'world’s', 'leading', 'cryptocurrency', 'may', 'reach', '100', '000', 'end', 'year', 'michael', 'terpin', 'author', 'bitcoin', 'supercycle', 'offers', 'insights', 'potential', 'historical', 'price', 'movements', 'starting', 'price', 'high', 'cycle', '100x', 'run', 'like', '2013', '30x', 'run', 'like', '2017', 'probably', 'even', '8x', 'run', 'like', '2021', 'long', 'standing', 'projection', 'go', 'three', 'times', 'halving', 'price', 'clocked', '63', '851', 'imply', 'terminal', 'time', 'high', 'cycle', '191', '553', 'several', 'psychological', 'hurdles', 'need', 'met', 'reach', 'price', 'first', '100', '000', 'one', 'tenth', 'way', 'long', 'held', 'hodler’s', 'dream', 'million', 'dollar', 'bitcoin', 'prior', '10x', 'landmarks', 'met', 'fanfare', 'quick', 'price', 'appreciation', 'beyond', 'range', 'fall', 'back', 'terpin', 'wrote', 'book', 'according', 'terpin', 'bitcoin', 'price', 'could', 'surge', '200', '000', 'fueled', 'favorable', 'policies', 'economic', 'shifts', 'may', 'hit', 'ceiling', 'dip', 'around', '100', '000', 'rebounding', 'late', '2025', 'second', 'wave', 'enthusiasm', 'driven', 'institutional', 'investments', 'market', 'optimism', 'could', 'push', 'price', 'higher', 'though', 'large', 'investors', 'might', 'cash', 'capping', 'rally', 'around', '220', '000–', '240', '000', 'sign', 'access', 'portfolio']\n",
      "--------------------------------------------------\n",
      "⭐ Rank 2:\n",
      "   - Document Index: 135\n",
      "   - BM25 Score: 10.5703\n",
      "   - Document Content:\n",
      "['experiencing', 'temporary', 'issues', 'market', 'data', 'page', 'currently', 'delayed', 'please', 'bear', 'us', 'address', 'restore', 'personalized', 'lists', 'listen', 'subscribe', 'decoding', 'retirement', 'apple', 'podcasts', 'spotify', 'wherever', 'find', 'favorite', 'podcasts', 'cost', 'college', 'tuition', 'universities', 'fast', 'approaching', '100', '000', 'per', 'year', 'rise', 'higher', 'education', 'expenses', 'shows', 'signs', 'slowing', 'according', 'ross', 'riskin', 'chief', 'learning', 'officer', 'investments', 'wealth', 'institute', 'yet', 'even', 'though', 'saving', 'paying', 'college', 'continues', 'top', 'priority', 'families', 'many', 'still', 'make', 'suboptimal', 'decisions', 'put', 'goals', 'risk', 'saving', 'enough', 'retirement', 'riskin', 'said', 'recent', 'episode', 'decoding', 'retirement', 'see', 'video', 'listen', 'riskin', 'discussed', 'benefits', 'families', 'saving', 'early', 'future', 'education', 'expenses', 'making', 'sure', 'family', 'members', 'understand', 'roles', 'instance', 'grandparents', 'aunts', 'uncles', 'plan', 'helping', 'best', 'capture', 'information', 'early', 'create', 'optimal', 'efficient', 'funding', 'plan', 'noted', '“we', 'need', 'know', 'actually', 'going', 'involved', 'funding', 'process', 'said', '“understanding', 'early', 'helps', 'us', 'build', 'accurate', 'plan', 'much', 'actually', 'need', 'save', 'talking', 'family', 'members', 'contributing', 'education', 'costs', 'might', 'seem', 'challenging', 'least', 'paper', 'however', 'according', 'riskin', 'actual', 'difficulty', 'conversation', '“depends', 'everybody’s', 'education', 'funding', 'philosophy', 'really', 'college', 'funding', 'philosophy', 'time', 'horizon', 'plays', 'key', 'role', 'helping', 'parents', 'choose', 'suitable', 'education', 'savings', 'options', '529', 'plans', 'coverdell', 'education', 'savings', 'accounts', 'among', 'others', '529', 'tax', 'advantaged', 'savings', 'account', 'specifically', 'designed', 'help', 'individuals', 'save', 'education', 'expenses', 'whereas', 'coverdell', 'account', 'trust', 'custodial', 'account', 'designed', 'paying', 'beneficiary', 'qualified', 'education', 'expenses', 'according', 'riskin', 'households', 'consider', 'four', 'main', 'factors', 'evaluating', 'vehicles', 'underlying', 'investment', 'options', 'first', 'two', 'criteria', 'operational', 'flexibility', 'investment', 'flexibility', 'operational', 'flexibility', 'refers', 'account', 'opened', 'managed', 'funds', 'added', 'withdrawn', 'ability', 'change', 'account', 'owners', 'beneficiaries', 'overall', 'ease', 'operation', 'investment', 'flexibility', 'meanwhile', 'considers', 'much', 'money', 'contributed', 'types', 'investments', 'available', 'limitations', 'changing', 'investment', 'allocations', 'frequently', 'adjustments', 'made', 'instance', '529', 'plans', 'may', 'limited', 'investment', 'options', 'restrict', 'changes', 'twice', 'per', 'year', 'next', 'factor', 'consider', 'tax', 'efficiency', 'involves', 'understanding', 'tax', 'benefits', 'implications', 'contributing', 'withdrawing', 'funds', 'account', 'accounts', 'like', '529s', 'coverdells', 'offer', 'tax', 'advantages', 'options', 'may', 'read', 'education', 'tax', 'credits', 'work', 'qualifies', 'lastly', 'families', 'consider', 'financial', 'aid', 'efficiency', 'account', 'affects', 'financial', 'aid', 'eligibility', 'accounts', 'treated', 'asset', 'aid', 'calculations', 'certain', 'withdrawals', 'may', 'count', 'income', 'negatively', 'impact', 'aid', 'owns', 'account', 'whether', 'parent', 'student', 'family', 'member', 'also', 'influences', 'factor', 'riskin', 'generally', 'favors', '529', 'plans', 'due', 'advantages', 'across', 'four', 'key', 'criteria', 'however', 'individuals', 'want', 'wider', 'range', 'investment', 'choices', 'might', 'find', 'coverdell', 'esas', 'taxable', 'brokerage', 'accounts', 'suitable', 'options', 'cases', 'might', 'appropriate', 'consider', 'saving', 'college', 'costs', 'using', 'custodial', 'account', 'often', 'referred', 'uniform', 'gifts', 'minors', 'act', 'ugma', 'uniform', 'transfers', 'minors', 'act', 'utma', 'accounts', 'accounts', 'make', 'easy', 'give', 'financial', 'gifts', 'child', 'without', 'cost', 'setting', 'trust', 'however', 'account', 'must', 'transferred', 'child', 'reach', 'certain', 'age', 'could', 'reduce', 'college', 'financial', 'aid', 'eligibility', 'given', 'there’s', 'one', 'ideal', 'education', 'savings', 'vehicle', 'riskin', 'suggested', 'exploring', 'options', '“it', 'really', 'puzzle', 'you’re', 'trying', 'put', 'together', 'said', 'noting', 'he’s', 'big', 'fan', 'using', 'multiple', 'savings', 'accounts', '“i’m', 'nothing', 'person', 'i’m', 'putting', 'everything', '529', 'putting', 'everything', 'brokerage', 'account', 'want', 'flexibility', 'riskin', 'also', 'highlighted', 'importance', 'filling', 'free', 'application', 'federal', 'student', 'aid', 'fafsa', 'even', 'families', 'don’t', 'expect', 'qualify', 'aid', 'noted', 'fafsa', 'required', 'access', 'federal', 'student', 'loans', 'may', 'eligible', 'forgiveness', 'along', 'work', 'study', 'programs', 'schools', 'said', 'even', 'require', 'consider', 'students', 'merit', 'based', 'scholarships', 'regardless', 'financial', 'need', 'additionally', 'rising', 'college', 'costs', 'families', 'previously', 'assumed', 'earned', 'much', 'may', 'qualify', 'need', 'based', 'aid', 'higher', 'cost', 'schools', 'looking', 'ahead', 'riskin', 'also', 'suggested', 'education', 'related', 'policies', 'may', 'remain', 'stable', 'others', 'face', 'uncertainty', 'incoming', 'trump', 'administration', 'riskin', 'expects', 'policy', 'allowing', '529', 'funds', '12', 'tuition', '10', '000', 'per', 'year', 'currently', 'remain', 'place', 'potentially', 'expand', 'move', 'reflect', 'trump', 'administration’s', 'support', 'private', 'education', 'options', 'however', 'one', 'income', 'driven', 'repayment', 'plans', 'saving', 'valuable', 'education', 'save', 'plan', 'well', 'tax', 'free', 'income', 'status', 'loan', 'forgiveness', 'plans', 'might', 'risk', 'july', 'federal', 'court', 'issued', 'injunction', 'blocking', 'implementation', 'certain', 'aspects', 'save', 'plan', 'idr', 'plans', 'present', 'public', 'service', 'loan', 'forgiveness', 'tax', 'free', 'forgiveness', 'idr', 'plans', 'may', 'taxable', '2025', 'unless', 'congress', 'extends', 'current', 'tax', 'exemption', 'riskin', 'believes', 'unlikely', 'read', 'taxed', 'student', 'loan', 'forgiveness', 'implications', 'colleges', 'well', 'changes', 'immigration', 'policies', 'could', 'reduce', 'number', 'international', 'students', 'us', 'could', 'financially', 'strain', 'colleges', 'rely', 'tuition', 'may', 'lead', 'increased', 'tuition', 'costs', 'budget', 'cuts', 'areas', 'ultimately', 'riskin', 'advised', 'making', 'sudden', 'moves', 'like', 'paying', 'student', 'loans', 'immediately', 'recommended', 'waiting', 'see', 'policies', 'evolve', 'federal', 'loans', 'offer', 'flexibility', 'potential', 'forgiveness', 'options', 'private', 'loans', 'may', 'tuesday', 'retirement', 'expert', 'financial', 'educator', 'robert', 'powell', 'gives', 'tools', 'plan', 'future', 'decoding', 'retirement', 'find', 'episodes', 'video', 'hub', 'watch', 'preferred', 'streaming', 'service', 'click', 'latest', 'personal', 'finance', 'news', 'help', 'investing', 'paying', 'debt', 'buying', 'home', 'retirement', 'superficial', 'logic', 'holds', 'water', 'always', 'story', 'goldman', 'sachs', 'sees', '500', 'gaining', '11', 'next', 'year', 'stock', 'market', 'gains', 'continue', 'broaden', 'large', 'tech', 'names', 'bloomberg', 'nestle', 'sa', 'plans', 'separate', 'bottled', 'water', 'brands', 'standalone', 'business', 'new', 'chief', 'executive', 'officer', 'laurent', 'freixe', 'seeks', 'bolster', 'growth', 'world’s', 'largest', 'food', 'company', 'read', 'bloombergparis', 'replace', 'parking', 'spaces', 'treesnew', 'york’s', 'transit', 'agency', 'approves', 'congestion', 'tollin', 'cleveland', 'forgotten', 'streetcar', 'bridge', 'gets', 'long', 'awaited', 'lifta', 'bug’s', 'eye', 'view', 'mexico', 'city’s', 'modernist', 'architectureamtrak', 'wins', '300', 'million', 'fix', 'unreliable', 'nj', 'nyc', 'contest', 'treasury', 'secretary', 'emerged', 'key', 'stumbling', 'block', 'donald', 'trump', 'presidential', 'transition', 'period', 'bitcoin', 'rose', 'record', 'high', '94', '000', 'report', 'donald', 'trump', 'social', 'media', 'company', 'talks', 'buy', 'crypto', 'trading', 'firm', 'bakkt', 'added', 'hopes', 'cryptocurrency', 'friendly', 'regime', 'incoming', 'trump', 'administration', 'bitcoin', 'world', 'biggest', 'best', 'known', 'cryptocurrency', 'doubled', 'year', 'financial', 'times', 'citing', 'two', 'people', 'knowledge', 'said', 'trump', 'media', 'technology', 'group', 'operates', 'truth', 'social', 'close', 'stock', 'acquisition', 'bakkt', 'backed', 'nyse', 'owner', 'intercontinental', 'exchange', 'could', 'happen', 'next', 'nvidia', 'shares', 'ark', 'invest', 'ceo', 'cathie', 'wood', 'vocal', 'bull', 'cryptocurrency', 'sector', 'years', 'specifically', 'leading', 'cryptocurrency', 'bitcoin', 'crypto', 'btc', 'recently', 'said', 'could', 'helped', 'incoming', 'white', 'house', 'administration', 'wood', 'shared', 'price', 'targets', 'bitcoin', 'years', 'including', 'high', 'million', 'btc', 'year', '2030', 'look', 'much', 'small', 'investment', 'bitcoin', 'today', 'could', 'increase', 'time', 'wood', 'various', 'price', 'targets', 'reached', 'future', 'stanley', 'druckenmiller', 'wowed', 'investors', 'year', 'year', 'winning', 'streak', 'helm', 'duquesne', 'capital', 'management', 'top', 'investor', 'closed', 'fund', '2010', 'since', 'continued', 'investing', 'duquesne', 'family', 'office', 'one', 'favored', 'stocks', 'recent', 'times', 'artificial', 'intelligence', 'ai', 'giant', 'nvidia', 'nasdaq', 'nvda', 'earlier', 'year', 'star', 'investor', 'started', 'cutting', 'nvidia', 'holding', 'third', 'quarter', 'sold', 'nvidia', 'shares', 'explosive', 'shift', 'rates—in', 'wrong', 'direction—is', 'harbinger', 'trouble', 'crucial', 'long', 'term', 'driver', 'stock', 'returns', 'oracle', 'omaha', 'sets', 'sights', 'prominent', 'brand', 'sign', 'access', 'portfolio']\n",
      "--------------------------------------------------\n",
      "⭐ Rank 3:\n",
      "   - Document Index: 96\n",
      "   - BM25 Score: 9.3065\n",
      "   - Document Content:\n",
      "['experiencing', 'temporary', 'issues', 'market', 'data', 'page', 'currently', 'delayed', 'please', 'bear', 'us', 'address', 'restore', 'personalized', 'lists', 'joe', 'raedle', 'staff', 'getty', 'images', '500', 'flat', 'wednesday', 'nov', '20', 'markets', 'braced', 'afternoon', 'earnings', 'news', 'ai', 'chip', 'powerhouse', 'nvidia', 'world', 'highest', 'capitalized', 'company', 'target', 'shares', 'plunged', 'retailer', 'missed', 'quarterly', 'estimates', 'noting', 'cautious', 'consumer', 'spending', 'behavior', 'ai', 'investments', 'helped', 'electronic', 'testing', 'supplier', 'keysight', 'top', 'quarterly', 'expectations', 'increasing', 'shares', 'major', 'equities', 'indexes', 'mixed', 'little', 'changed', 'wednesday', 'nvidia', 'nvda', 'prepared', 'disclose', 'quarterly', 'results', 'closing', 'bell', 'trading', 'negative', 'territory', 'much', 'day', '500', 'rebounded', 'afternoon', 'close', 'flat', 'session', 'afternoon', 'rally', 'helped', 'lift', 'dow', 'daily', 'gain', 'nasdaq', 'ended', 'lower', 'wednesday', 'top', 'performance', '500', 'came', 'shares', 'electronic', 'test', 'measurement', 'provider', 'keysight', 'technologies', 'keys', 'surged', '52', 'week', 'high', 'keysight', 'posted', 'better', 'expected', 'earnings', 'per', 'share', 'eps', 'revenue', 'fiscal', 'fourth', 'quarter', 'boosted', 'investments', 'artificial', 'intelligence', 'ai', 'technology', 'projections', 'current', 'quarter', 'also', 'topped', 'forecasts', 'humana', 'hum', 'shares', 'jumped', 'wells', 'fargo', 'lifted', 'price', 'target', 'stock', 'analysts', 'said', 'stronger', 'expectations', 'insurer', 'hinged', 'updates', 'managed', 'care', 'estimates', 'indicating', 'see', 'improved', 'risk', 'reward', 'profile', 'humana', 'medicare', 'advantage', 'business', 'federal', 'government', 'republican', 'control', 'shares', 'real', 'estate', 'analytics', 'marketing', 'firm', 'costar', 'group', 'csgp', 'added', 'needham', 'reiterated', 'buy', 'rating', 'stock', 'analysts', 'cited', 'number', 'positive', 'factors', 'costar', 'suggesting', 'operator', 'online', 'property', 'marketplaces', 'positioned', 'benefit', 'strategic', 'sales', 'moves', 'potential', 'improvement', 'commercial', 'real', 'estate', 'market', 'addition', 'likely', 'decline', 'interest', 'rates', '2025', 'could', 'help', 'drive', 'increased', 'bookings', 'target', 'tgt', 'shares', 'plummeted', '21', 'falling', 'stock', '500', 'retail', 'giant', 'reported', 'lower', 'expected', 'sales', 'profits', 'third', 'quarter', 'although', 'digital', 'sales', 'ticked', 'higher', 'year', 'ago', 'comparable', 'store', 'sales', 'declined', 'target', 'highlighted', 'inflation', 'wary', 'consumers', 'taking', 'cautious', 'approach', 'shopping', 'spending', 'target', 'miss', 'came', 'day', 'rival', 'walmart', 'wmt', 'topped', 'quarterly', 'expectations', 'helping', 'lift', 'walmart', 'shares', 'record', 'high', 'super', 'micro', 'computer', 'smci', 'shares', 'fell', 'giving', 'back', 'gains', 'posted', 'previous', 'session', 'server', 'maker', 'stock', 'carved', 'volatile', 'path', 'recent', 'weeks', 'supermicro', 'addresses', 'concerns', 'accounting', 'practices', 'led', 'postponement', 'annual', 'report', 'earlier', 'week', 'company', 'submitted', 'plan', 'avoid', 'delisting', 'stock', 'nasdaq', 'announced', 'accounting', 'firm', 'bdo', 'usa', 'serve', 'new', 'auditor', 'semiconductor', 'maker', 'qualcomm', 'qcom', 'held', 'first', 'investor', 'day', 'three', 'years', 'outlining', 'growth', 'projections', 'business', 'outside', 'smartphones', 'focus', 'automotive', 'internet', 'things', 'iot', 'segments', 'however', 'qualcomm', 'shares', 'dropped', 'analysts', 'questioned', 'expected', 'growth', 'trajectory', 'company', 'markets', 'ability', 'capture', 'market', 'share', 'qualcomm', 'derives', 'majority', 'revenue', 'smartphone', 'chips', 'faces', 'pressure', 'diversify', 'apple', 'aapl', 'moves', 'away', 'qualcomm', 'components', 'sign', 'access', 'portfolio']\n",
      "--------------------------------------------------\n",
      "⭐ Rank 4:\n",
      "   - Document Index: 97\n",
      "   - BM25 Score: 8.4853\n",
      "   - Document Content:\n",
      "['experiencing', 'temporary', 'issues', 'market', 'data', 'page', 'currently', 'delayed', 'please', 'bear', 'us', 'address', 'restore', 'personalized', 'lists', 'lead', 'nvidia’s', 'wednesday’s', 'earnings', 'release', 'produced', 'plenty', 'jitters', 'wall', 'street', 'despite', 'expectations', 'incredible', 'growth', 'q3', 'results', 'put', 'bell', 'prompt', 'massive', 'sell', 'feared', 'ai', 'chip', 'leader’s', 'stock', 'dropping', 'less', 'hours', 'trading', 'management', 'spoke', 'analysts', 'call', 'last', 'quarter', 'modest', 'revenue', 'earnings', 'beat', 'enough', 'prevent', 'massive', 'sell', 'news', 'event', 'stock', 'falling', '18', 'week', 'following', 'call', 'figured', 'stock', 'could', 'due', 'another', 'dip', 'time', 'around', 'institutional', 'investors', 'eager', 'engage', 'profit', 'taking', 'end', 'year', 'stock', 'held', 'steady', 'early', 'wednesday', 'evening', 'however', 'revenue', 'jumped', '94', 'year', 'year', '35', 'billion', 'company’s', 'january', 'guidance', 'also', 'came', 'better', 'expected', 'chip', 'maker', 'indicating', 'confident', 'rollout', 'next', 'generation', 'blackwell', 'platform', '“the', 'age', 'ai', 'full', 'steam', 'propelling', 'global', 'shift', 'nvidia', 'computing', 'huang', 'said', 'press', 'release', '“demand', 'hopper', 'anticipation', 'blackwell—in', 'full', 'production—are', 'incredible', 'foundation', 'model', 'makers', 'scale', 'pretraining', 'post', 'training', 'inference', 'comes', 'stock’s', 'short', 'term', 'movement', 'investors', 'might', 'totally', 'woods', 'yet', 'options', 'trading', 'ahead', 'call', 'implied', 'move', 'short', 'either', 'direction', 'according', 'bloomberg', 'roughly', 'equate', '300', 'billion', 'swing', 'market', 'value', 'bigger', 'valuations', '24', 'america’s', 'largest', 'companies', 'regardless', 'shareholders', 'massively', 'rewarded', 'particularly', 'bought', 'around', 'release', 'chatgpt', '2022', 'subsequent', 'genai', 'boom', 'stock', 'appreciate', '800', 'last', 'two', 'years', 'company', 'adding', 'trillion', 'market', 'cap', 'trade', 'places', 'apple', 'world’s', 'largest', 'company', 'despite', 'nvidia’s', 'growth', 'running', 'law', 'large', 'numbers', 'wall', 'street', 'appears', 'optimistic', 'stock', 'continuing', 'reward', 'investors', 'wednesday', 'afternoon', 'roughly', '90', 'analysts', 'surveyed', 'bloomberg', '68', '76', 'buy', 'rating', 'stock', 'compared', 'placing', 'hold', 'advising', 'sell', 'based', 'recent', 'earnings', 'street’s', 'expectations', 'stock', 'incredibly', 'expensive', 'either', 'earnings', 'call', 'company’s', 'blended', 'price', 'earnings', 'ratio', 'sat', 'north', '36', 'per', 'bloomberg', 'represented', '24', 'premium', 'semiconductor', 'industry', 'besides', 'genai', 'trade', 'semis', 'struggled', 'mightily', 'baird', 'managing', 'director', 'ted', 'mortonson', 'told', 'fortune', 'call', 'amid', 'contraction', 'autos', 'flagging', 'industrial', 'demand', 'europe', 'phlx', 'semiconductor', 'index', 'commonly', 'known', 'sox', 'year', 'date', '“nvidia', 'holding', 'index', 'said', 'mortonson', 'also', 'tech', 'desk', 'sector', 'strategist', 'wednesday', 'world’s', 'hottest', 'company', 'continued', 'deliver', 'story', 'originally', 'featured', 'fortune', 'com', 'sign', 'access', 'portfolio']\n",
      "--------------------------------------------------\n",
      "⭐ Rank 5:\n",
      "   - Document Index: 13\n",
      "   - BM25 Score: 8.3627\n",
      "   - Document Content:\n",
      "['experiencing', 'temporary', 'issues', 'market', 'data', 'page', 'currently', 'delayed', 'please', 'bear', 'us', 'address', 'restore', 'personalized', 'lists', 'bloomberg', 'bitcoin', 'hit', '95', '000', 'first', 'time', 'digital', 'asset', 'sector', 'moves', 'cement', 'influence', 'donald', 'trump', 'pushing', 'new', 'white', 'house', 'post', 'dedicated', 'cryptocurrency', 'policy', 'read', 'bloomberg', 'paris', 'replace', 'parking', 'spaces', 'trees', 'trump', 'promises', 'could', 'seismic', 'impact', 'washington', 'economy', 'new', 'york’s', 'transit', 'agency', 'approves', 'congestion', 'toll', 'tokyo’s', 'scorching', 'summers', 'focus', 'public', 'anger', 'tree', 'cutting', 'nyc', 'mayor', 'adams', 'names', 'jessica', 'tisch', 'lead', 'police', 'head', 'amid', 'probes', 'trump’s', 'team', 'holding', 'discussions', 'whether', 'create', 'role', 'industry', 'pitching', 'position', 'direct', 'access', 'president', 'elect', 'one', 'crypto’s', 'biggest', 'cheerleaders', 'talks', 'latest', 'us', 'boost', 'digital', 'asset', 'market', 'sentiment', 'alongside', 'bitcoin', 'accumulator', 'microstrategy', 'inc', '’s', 'plans', 'accelerate', 'purchases', 'token', 'debut', 'options', 'nation’s', 'bitcoin', 'exchange', 'traded', 'funds', 'largest', 'digital', 'asset', 'rose', 'us', 'wednesday', 'extended', 'gain', 'early', 'asia', 'thursday', 'record', 'high', '95', '004', 'crypto', 'market', 'whole', 'consolidated', 'gains', '800', 'billion', 'jump', 'since', 'trump’s', 'election', 'victory', 'nov', 'based', 'data', 'coingecko', 'speculators', 'increasingly', 'focused', 'whether', 'bitcoin', 'make', 'leap', '100', '000', 'advocates', 'claimed', 'role', 'modern', 'day', 'store', 'value', 'cherish', 'six', 'figure', 'level', 'rebuttal', 'skeptics', 'see', 'little', 'utility', 'crypto', 'decry', 'links', 'money', 'laundering', 'criminal', 'activity', '“buyers', 'strangling', 'sellers', 'said', 'ig', 'australia', 'pty', 'market', 'analyst', 'tony', 'sycamore', '“while', 'i’m', 'sure', 'it’s', 'going', 'smooth', 'sailing', 'edges', 'closer', '100', '000', 'mark', 'demand', 'appears', 'insatiable', 'microstrategy', 'largest', 'publicly', 'traded', 'corporate', 'holder', 'bitcoin', 'wednesday', 'announced', 'almost', '50', 'increase', 'planned', 'sales', 'convertible', 'senior', 'notes', 'billion', 'fund', 'purchases', 'token', 'obscure', 'software', 'maker', 'bills', 'bitcoin', 'treasury', 'company', 'roughly', '31', 'billion', 'stockpile', 'digital', 'asset', 'trump', 'vowed', 'create', 'supportive', 'us', 'regulatory', 'framework', 'digital', 'assets', 'set', 'strategic', 'bitcoin', 'stockpile', 'timeline', 'implementation', 'promises', 'feasibility', 'bitcoin', 'reserve', 'remain', 'uncertain', 'president', 'elect', 'used', 'crypto', 'skeptic', 'changed', 'tack', 'digital', 'asset', 'firms', 'spent', 'heavily', 'election', 'campaigning', 'promote', 'interests', 'read', 'bloomberg', 'businessweek', 'jaylen', 'brown', 'taking', 'nike', '200', 'sneakers', 'trump', 'triumph', 'america’s', 'new', 'elite', 'trump’s', 'impossible', 'task', 'delivering', 'working', 'class', 'billionaires', 'deep', 'jungle', 'virus', 'hunters', 'working', 'stop', 'next', 'pandemic', 'companies', 'immigrant', 'workforces', 'preparing', 'raids', '©2024', 'bloomberg', 'sign', 'access', 'portfolio']\n",
      "--------------------------------------------------\n"
     ]
    }
   ],
   "source": [
    "df = preprocess_df(df)\n",
    "query = preprocess_query(query)\n",
    "\n",
    "bm25_instance = bmp25.BM25(df[\"content\"],k1=1.5, b=0.75)\n",
    "rank_query_bm25(bm25_instance, query, summarize_docs=False)\n"
   ]
  },
  {
   "cell_type": "code",
   "execution_count": 155,
   "id": "92ce1b87-3788-4753-83a0-8f8878aa2635",
   "metadata": {},
   "outputs": [
    {
     "name": "stdout",
     "output_type": "stream",
     "text": [
      "['experiencing', 'temporary', 'issues', 'market', 'data', 'page', 'currently', 'delayed', 'please', 'bear', 'us', 'address', 'restore', 'personalized', 'lists', 'singapore', 'reuters', 'dollar', 'bond', 'prices', 'adani', 'companies', 'fell', 'sharply', 'early', 'asia', 'trade', 'indian', 'conglomerate', 'billionaire', 'chairman', 'indicted', 'new', 'york', 'allegations', 'bribery', 'fraud', 'prices', 'adani', 'port', 'special', 'economic', 'zone', 'debt', 'maturing', 'august', '2027', 'fell', 'five', 'cents', 'dollar', 'according', 'lseg', 'data', 'adani', 'electricity', 'mumbai', 'debt', 'maturing', 'february', '2030', 'fell', 'nearly', 'eight', 'cents', 'dollar', 'bonds', 'issued', 'adani', 'transmission', 'also', 'notched', 'falls', 'larger', 'five', 'cents', 'reporting', 'tom', 'westbrook', 'editing', 'tom', 'hogue', 'sign', 'access', 'portfolio']\n",
      "['experiencing', 'temporary', 'issues', 'market', 'data', 'page', 'currently', 'delayed', 'please', 'bear', 'us', 'address', 'restore', 'personalized', 'lists', 'episode', '785', 'truck', 'dooner', 'live', 'day', 'freightwaves’', 'future', 'freight', 'conference', 'he’s', 'joined', 'special', 'guests', 'samathan', 'foley', 'turvo', 'prasad', 'gollapalli', 'qued', 'jordan', 'kidd', 'alvys', 'catch', 'new', 'shows', 'live', 'noon', 'edt', 'mondays', 'wednesdays', 'fridays', 'freightwaves', 'linkedin', 'facebook', 'youtube', 'demand', 'looking', 'truck', 'favorite', 'podcast', 'player', 'eastern', 'siriusxm’s', 'road', 'dog', 'trucking', 'channel', '146', 'watch', 'youtube', 'check', 'wtt', 'merch', 'store', 'visit', 'sponsor', 'subscribe', 'wtt', 'newsletter', 'apple', 'podcasts', 'spotify', 'freightwaves', 'podcasts', 'post', 'live', 'f3', 'day', 'turvo', 'qued', 'alvys', 'truck', 'appeared', 'first', 'freightwaves', 'sign', 'access', 'portfolio']\n",
      "['404', 'client', 'error', 'found', 'url', 'https', 'finance', 'yahoo', 'com', 'news', 'ai', 'fueled', 'stock', 'market', 'bubble', '201601958', 'html']\n",
      "['404', 'client', 'error', 'found', 'url', 'https', 'finance', 'yahoo', 'com', 'news', 'stock', 'market', 'today', 'indexes', 'dip', '230356917', 'html']\n",
      "['404', 'client', 'error', 'found', 'url', 'https', 'finance', 'yahoo', 'com', 'news', 'wall', 'street', 'awaits', 'nvidias', 'earning', '141644952', 'html']\n",
      "['experiencing', 'temporary', 'issues', 'market', 'data', 'page', 'currently', 'delayed', 'please', 'bear', 'us', 'address', 'restore', 'personalized', 'lists', 'equity', 'markets', 'fall', 'intraday', 'ahead', 'nvidia', 'earnings', 'sign', 'access', 'portfolio']\n",
      "['experiencing', 'temporary', 'issues', 'market', 'data', 'page', 'currently', 'delayed', 'please', 'bear', 'us', 'address', 'restore', 'personalized', 'lists', 'wells', 'fargo', 'raises', '500', 'target', 'level', 'next', 'year', 'amid', 'economic', 'strength', 'policy', 'changes', 'sign', 'access', 'portfolio']\n",
      "['404', 'client', 'error', 'found', 'url', 'https', 'finance', 'yahoo', 'com', 'news', 'target', 'shoppers', 'waiting', 'buy', 'questing', '183425658', 'html']\n",
      "['404', 'client', 'error', 'found', 'url', 'https', 'finance', 'yahoo', 'com', 'news', 'weight', 'loss', 'drug', 'makers', 'still', '224112838', 'html']\n",
      "9\n"
     ]
    }
   ],
   "source": [
    "count=0\n",
    "for i in range(len(df)):\n",
    "    article = df.iloc[i][\"content\"]\n",
    "    if len(article) < 100:\n",
    "        count+=1\n",
    "        print(article)\n",
    "print(count)"
   ]
  },
  {
   "cell_type": "code",
   "execution_count": null,
   "id": "5f4015b4-d852-44e2-af4a-0434c96ccc74",
   "metadata": {},
   "outputs": [],
   "source": []
  },
  {
   "cell_type": "code",
   "execution_count": null,
   "id": "8bfb90d7-9737-49f9-ba8b-6e1d9eee60f0",
   "metadata": {},
   "outputs": [],
   "source": []
  }
 ],
 "metadata": {
  "kernelspec": {
   "display_name": "Python 3 (ipykernel)",
   "language": "python",
   "name": "python3"
  },
  "language_info": {
   "codemirror_mode": {
    "name": "ipython",
    "version": 3
   },
   "file_extension": ".py",
   "mimetype": "text/x-python",
   "name": "python",
   "nbconvert_exporter": "python",
   "pygments_lexer": "ipython3",
   "version": "3.11.7"
  }
 },
 "nbformat": 4,
 "nbformat_minor": 5
}
