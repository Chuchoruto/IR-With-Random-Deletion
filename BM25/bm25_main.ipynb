{
 "cells": [
  {
   "cell_type": "code",
   "execution_count": 9,
   "id": "c9f3ef46-72f7-40b0-8d48-05403cb83d27",
   "metadata": {},
   "outputs": [],
   "source": [
    "import pandas as pd\n",
    "from openai import OpenAI, Embedding\n",
    "from nltk import word_tokenize\n",
    "from nltk.corpus import stopwords\n",
    "import string\n",
    "import os\n"
   ]
  },
  {
   "cell_type": "code",
   "execution_count": 97,
   "id": "c9309815-57f5-4369-ad4a-cb7f3b483bb5",
   "metadata": {},
   "outputs": [],
   "source": [
    "df = pd.read_csv(\"../20_11_26_11_articles_combined.csv\") \n",
    "#openai_client = OpenAI(api_key = 'insert-api-key')"
   ]
  },
  {
   "cell_type": "code",
   "execution_count": 4,
   "id": "cd1af5a9-f7d1-4361-9813-c25f14ca4cea",
   "metadata": {},
   "outputs": [
    {
     "name": "stdout",
     "output_type": "stream",
     "text": [
      "           title                                                url  \\\n",
      "0  Yahoo Finance  https://finance.yahoo.com/news/veteran-fund-ma...   \n",
      "1  Yahoo Finance  https://finance.yahoo.com/news/messenger-gets-...   \n",
      "2  Yahoo Finance  https://finance.yahoo.com/news/social-media-ba...   \n",
      "3  Yahoo Finance  https://finance.yahoo.com/news/snowflake-share...   \n",
      "4  Yahoo Finance  https://finance.yahoo.com/news/baidu-bulls-ret...   \n",
      "\n",
      "                          date  \\\n",
      "0   Wed, Nov 20, 2024, 3:33 PM   \n",
      "1  Wed, Nov 20, 2024, 10:06 AM   \n",
      "2   Wed, Nov 20, 2024, 5:00 PM   \n",
      "3   Wed, Nov 20, 2024, 1:30 PM   \n",
      "4   Wed, Nov 20, 2024, 4:28 PM   \n",
      "\n",
      "                                             content  \n",
      "0  We are experiencing some temporary issues. The...  \n",
      "1  We are experiencing some temporary issues. The...  \n",
      "2  We are experiencing some temporary issues. The...  \n",
      "3  We are experiencing some temporary issues. The...  \n",
      "4  We are experiencing some temporary issues. The...  \n"
     ]
    }
   ],
   "source": [
    "print(df.head())"
   ]
  },
  {
   "cell_type": "code",
   "execution_count": 13,
   "id": "0da13a85-9dc2-44d1-9f59-99e9048666fa",
   "metadata": {},
   "outputs": [],
   "source": [
    "from openai import OpenAI, Embedding\n",
    "\n",
    "\n",
    "def summarize_doc(openai_client, text):\n",
    "    query = \"Summarize this into less than 10 words\"\n",
    "\n",
    "    prompt = f\"Context:\\n{text}\\n\\nQuestion: {query}\\nAnswer:\"\n",
    "\n",
    "\n",
    "    completion = openai_client.chat.completions.create(\n",
    "        model=\"gpt-3.5-turbo-0125\",\n",
    "        messages=[\n",
    "        {\"role\": \"user\", \"content\": prompt}\n",
    "        ]\n",
    "    )\n",
    "\n",
    "    print(completion.choices[0].message)"
   ]
  },
  {
   "cell_type": "code",
   "execution_count": 68,
   "id": "20886afe-b16e-4163-9fed-208ad1bd8b81",
   "metadata": {},
   "outputs": [],
   "source": [
    "def preprocess_text(text):\n",
    "    \"\"\"Preprocess a single text input (either document or query).\"\"\"\n",
    "    stop_words = set(stopwords.words('english'))\n",
    "    stop_words.add('would')  # Add custom stop words if needed\n",
    "    translator = str.maketrans(string.punctuation, ' ' * len(string.punctuation))  # Replace punctuation with spaces\n",
    "    text_nopunct = text.translate(translator)  # Remove punctuation\n",
    "    words_list = text_nopunct.strip().split()  # Tokenize into words\n",
    "    filtered_words = [word.lower() for word in words_list if word.lower() not in stop_words and len(word) > 1]\n",
    "    return filtered_words\n",
    "\n",
    "def preprocess_df(df):\n",
    "    \"\"\"Preprocess a DataFrame column containing document content.\"\"\"\n",
    "    df[\"content\"] = df[\"content\"].apply(preprocess_text)\n",
    "    return df\n",
    "\n",
    "def preprocess_query(query):\n",
    "    \"\"\"Preprocess a query string.\"\"\"\n",
    "    return preprocess_text(query)"
   ]
  },
  {
   "cell_type": "code",
   "execution_count": 17,
   "id": "c5b70849-0d1c-46b2-ba3d-0fdcc50b17a4",
   "metadata": {},
   "outputs": [],
   "source": [
    "import bm25\n",
    "import importlib\n",
    "\n",
    "# Reload the module after making changes\n",
    "importlib.reload(bm25)\n",
    "\n",
    "# Initialize the BM25 instance\n",
    "\n",
    "def rank_query_bm25(bm25, query, top_k=5, summarize_docs=True):\n",
    "    # Display initial document details\n",
    "    print(\"=\" * 50)\n",
    "    print(\"📄 Document Sample:\")\n",
    "    print(df.head())\n",
    "    print(\"=\" * 50)\n",
    "    print(f\"📏 Total Documents: {len(bm25_instance.doc_lengths)}\")\n",
    "    print(f\"Preprocessed query: {query}\")\n",
    "    # Rank documents for a given query\n",
    "    ranked_indices, scores = bm25_instance.rank(query)\n",
    "\n",
    "    ranked_indices = ranked_indices[:top_k]\n",
    "    scores = scores[:top_k]\n",
    "\n",
    "    print(\"\\n🏆 Ranking Results:\")\n",
    "    print(\"=\" * 50)\n",
    "    for i, (doc_index, score) in enumerate(zip(ranked_indices, scores), start=1):\n",
    "        print(f\"⭐ Rank {i}:\")\n",
    "        print(f\"   - Document Index: {doc_index}\")\n",
    "        print(f\"   - BM25 Score: {score:.4f}\")\n",
    "        doc_content = df.iloc[doc_index][\"content\"]\n",
    "        if (summarize_docs):\n",
    "            summmary = summarize_doc(openai_client, doc_content)\n",
    "            print(f\"   - Document Content:\\n{summmary}\")\n",
    "        else:\n",
    "            print(f\"   - Document Content:\\n{doc_content}\")\n",
    "        print(\"-\" * 50)\n"
   ]
  },
  {
   "cell_type": "code",
   "execution_count": 94,
   "id": "79d26a94-8956-4aa4-a738-f8c179738fe2",
   "metadata": {},
   "outputs": [],
   "source": [
    "query = \"Why is Australia's monetary policy still seen as powerful even though a lot of households have high mortgage debt?\" #408\n",
    "#28 15\n",
    "query2 = \"What's Palo Alto Networks' revenue forecast for the second quarter, and how does it stack up against what analysts expected?\" #34\n",
    "#35 18\n",
    "query3= \"How could institutional investments affect Bitcoin's price through 2025?\" #229\n",
    "#18 13\n",
    "query4 = \"Hey, I've been hearing that some AI companies are getting into hardware. What challenges do these companies face when trying to bring AI devices to market?\" #45\n",
    "#21.3 20.7\n",
    "query5 = \"What impact could increased tariffs have on the cost of goods for companies, and how might that affect consumers?\" #373\n",
    "#17.4 15.6\n",
    "query6 = \"Why is the U.S. government reducing Intel's chips grant, and what factors are contributing to the change?\" #191\n",
    "#21.9 20.8\n",
    "query7 = \"What is Israel considering regarding a cease-fire with Hezbollah, and what would the terms be?\" #12\n",
    "#29 23\n",
    "query8 = \"How have Baidu's shares performed this year, and what’s the outlook for its upcoming earnings report?\" #222\n",
    "#13.9 13.1\n",
    "query9 = \"What challenges does the U.S. face in reaching an agreement over the future of Colorado River water use, and what are the possible solutions being discussed?\" #411\n",
    "#32 11\n",
    "query10 = \"Why are creditors frustrated with the stalled auction of Citgo Petroleum shares?\" #91\n",
    "#35 8\n",
    "\n",
    "query = query6"
   ]
  },
  {
   "cell_type": "code",
   "execution_count": 78,
   "id": "8ff8fc3c-8da0-40af-ada6-05c32b36f0c7",
   "metadata": {},
   "outputs": [],
   "source": [
    "df = preprocess_df(df)"
   ]
  },
  {
   "cell_type": "code",
   "execution_count": 95,
   "id": "1ba9279a-b336-434e-b609-793049970d16",
   "metadata": {},
   "outputs": [
    {
     "name": "stdout",
     "output_type": "stream",
     "text": [
      "==================================================\n",
      "📄 Document Sample:\n",
      "           title                                                url  \\\n",
      "0  Yahoo Finance  https://finance.yahoo.com/news/canada-oil-patc...   \n",
      "1  Yahoo Finance  https://finance.yahoo.com/news/thanksgiving-di...   \n",
      "2  Yahoo Finance  https://finance.yahoo.com/news/amgen-falls-wei...   \n",
      "3  Yahoo Finance  https://finance.yahoo.com/news/ken-leech-sued-...   \n",
      "4  Yahoo Finance  https://finance.yahoo.com/news/chocolatiers-bu...   \n",
      "\n",
      "                         date  \\\n",
      "0  Tue, Nov 26, 2024, 8:57 AM   \n",
      "1  Tue, Nov 26, 2024, 9:32 AM   \n",
      "2  Tue, Nov 26, 2024, 6:38 AM   \n",
      "3  Tue, Nov 26, 2024, 7:57 AM   \n",
      "4  Tue, Nov 26, 2024, 7:00 AM   \n",
      "\n",
      "                                             content  \n",
      "0  [bloomberg, canada’s, oil, industry, stressed,...  \n",
      "1  [count, blessings, thanksgiving, dinner, cheap...  \n",
      "2  [bloomberg, amgen, inc, shares, fell, 23, year...  \n",
      "3  [bloomberg, first, blush, us, case, star, bond...  \n",
      "4  [bloomberg, looked, like, cocoa, supplies, imp...  \n",
      "==================================================\n",
      "📏 Total Documents: 437\n",
      "Preprocessed query: ['government', 'reducing', 'intel', 'chips', 'grant', 'factors', 'contributing', 'change']\n",
      "\n",
      "🏆 Ranking Results:\n",
      "==================================================\n",
      "⭐ Rank 1:\n",
      "   - Document Index: 191\n",
      "   - BM25 Score: 21.9373\n",
      "   - Document Content:\n",
      "['reuters', 'government', 'plans', 'reduce', 'intel', 'corp', 'preliminary', 'billion', 'federal', 'chips', 'grant', 'less', 'billion', 'new', 'york', 'times', 'reported', 'sunday', 'citing', 'unnamed', 'sources', 'change', 'took', 'account', 'billion', 'contract', 'intel', 'offered', 'make', 'chips', 'pentagon', 'people', 'told', 'times', 'spring', 'president', 'joe', 'biden', 'administration', 'said', 'awarding', 'intel', 'nearly', '20', 'billion', 'grants', 'loans', 'supercharging', 'company', 'domestic', 'semiconductor', 'chip', 'output', 'marking', 'government', 'largest', 'outlay', 'subsidize', 'leading', 'edge', 'chip', 'production', 'announced', 'preliminary', 'agreement', 'billion', 'grants', '11', 'billion', 'loans', 'intel', 'arizona', 'funding', 'used', 'build', 'two', 'new', 'factories', 'modernize', 'existing', 'one', 'outlay', 'part', '2022', 'chips', 'science', 'act', 'bid', 'boost', 'domestic', 'semiconductor', 'output', '52', 'billion', 'funding', 'including', '39', 'billion', 'subsidies', 'semiconductor', 'production', '11', 'billion', 'research', 'development', 'reporting', 'mike', 'stone', 'costas', 'pitas', 'editing', 'kim', 'coghill', 'sign', 'access', 'portfolio']\n",
      "--------------------------------------------------\n",
      "⭐ Rank 2:\n",
      "   - Document Index: 64\n",
      "   - BM25 Score: 20.8335\n",
      "   - Document Content:\n",
      "['bloomberg', 'biden', 'administration', 'finalized', 'deal', 'give', 'intel', 'corp', 'nearly', 'billion', 'federal', 'grants', 'largest', 'direct', 'subsidy', 'program', 'boost', 'domestic', 'semiconductor', 'manufacturing', 'agreement', 'struggling', 'chipmaker', 'smaller', 'earlier', 'proposed', 'award', 'means', 'intel', 'begin', 'receiving', 'funds', 'hits', 'negotiated', 'benchmarks', 'projects', 'four', 'us', 'states', 'company', 'qualify', 'least', 'billion', 'year', 'senior', 'administration', 'official', 'said', 'based', 'milestones', 'already', 'reached', 'specifically', 'intel', 'get', 'money', 'projects', 'arizona', 'oregon', 'new', 'mexico', 'according', 'person', 'familiar', 'matter', 'asked', 'named', 'details', 'public', 'company’s', 'greenfield', 'site', 'ohio', 'delayed', 'several', 'years', 'yet', 'eligible', 'federal', 'support', 'person', 'said', 'though', 'already', 'received', 'billion', 'state', 'wrapping', 'talks', 'top', 'priority', 'intel', 'spent', 'months', 'trying', 'convince', 'wall', 'street', 'washington', 'execute', 'massive', 'manufacturing', 'expansion', 'despite', 'deep', 'financial', 'struggles', 'years', 'technological', 'blunders', 'it’s', 'also', 'important', 'step', 'president', 'joe', 'biden’s', 'administration', 'trying', 'insulate', 'industrial', 'policy', 'initiatives', 'potential', 'changes', 'president', 'elect', 'donald', 'trump', 'intel’s', 'award', 'result', '“american', 'designed', 'chips', 'manufactured', 'packaged', 'american', 'workers', 'united', 'states', 'american', 'company', 'first', 'time', 'long', 'time', 'said', 'commerce', 'secretary', 'gina', 'raimondo', 'whose', 'agency', 'charge', 'implementing', '2022', 'chips', 'science', 'act', 'landmark', 'bipartisan', 'law', 'set', 'aside', '39', 'billion', 'grants', '75', 'billion', 'loans', 'loan', 'guarantees', '25', 'tax', 'credits', 'revitalize', 'american', 'chipmaking', 'trump', 'criticized', 'chips', 'program', '“so', 'bad”', 'republican', 'colleagues', 'threatened', 'revise', 'even', 'repeal', 'legislation', 'risk', 'new', 'administration', 'could', 'overhaul', 'effort', 'take', 'office', 'january', 'prompted', 'commerce', 'department', 'accelerate', 'work', 'seeking', 'wrap', 'much', 'negotiations', 'intel', 'taiwan', 'semiconductor', 'manufacturing', 'co', 'companies', 'soon', 'possible', 'biden', 'officials', 'staked', 'significant', 'portion', 'semiconductor', 'ambitions', 'intel', 'lone', 'american', 'maker', 'advanced', 'processors', 'company', 'promised', 'spend', '100', 'billion', 'us', 'factories', 'amounting', 'nearly', 'quarter', 'total', 'private', 'investment', 'spurred', 'chips', 'act', 'supposed', 'make', 'semiconductors', 'military', 'makes', 'intel’s', 'projects', 'crucial', 'national', 'security', 'country’s', 'broader', 'goal', 'reaching', '20', 'global', 'market', 'share', 'leading', 'edge', 'logic', 'chips', 'us', 'officials', 'also', 'contend', 'intel’s', 'significant', 'business', 'challenges', 'grown', 'apparent', 'since', 'announced', 'preliminary', 'award', 'march', 'intel’s', 'disastrous', 'august', 'financial', 'report', 'stoked', 'concern', 'among', 'investors', 'viability', 'chief', 'executive', 'officer', 'pat', 'gelsinger’s', 'turnaround', 'plans', 'government', 'negotiations', 'stalled', 'disagreements', 'much', 'information', 'intel', 'share', 'federal', 'officials', 'seeking', 'vet', 'technology', 'road', 'map', 'bloomberg', 'reported', 'well', 'terms', 'spelling', 'happens', 'company', 'spins', 'manufacturing', 'business', 'purchased', 'part', 'whole', 'reduced', 'grant', 'loans', 'intel', 'originally', 'line', 'win', 'billion', 'chips', 'act', 'grants', '11', 'billion', 'loans', 'final', 'deal', 'reduced', 'grant', 'intel', 'chose', 'take', 'loans', 'senior', 'official', 'said', 'without', 'elaborating', 'reasons', 'funding', 'cut', 'intel’s', 'broader', 'business', 'challenges', 'said', 'rather', 'reflects', 'separate', 'billion', 'grant', 'intel', 'make', 'advanced', 'chips', 'military', 'according', 'administration', 'official', 'several', 'people', 'familiar', 'talks', 'program', 'called', 'secure', 'enclave', 'originally', 'supposed', 'get', 'majority', 'funding', 'pentagon', 'february', 'defense', 'officials', 'pulled', 'share', 'deal', 'lawmakers', 'saddled', 'commerce', 'department', 'responsibility', 'commerce', 'officials', 'folded', 'new', 'obligations', 'chips', 'act', 'money', 'already', 'set', 'aside', 'intel', 'bloomberg', 'reported', 'reducing', 'total', 'amount', 'funding', 'chipmaker', 'ultimately', 'received', 'project', 'delays', 'intel’s', 'initial', 'proposed', 'award', 'slated', 'support', 'us', 'projects', 'company', 'since', 'delayed', 'construction', 'key', 'sites', 'meaning', 'around', '10', 'intel’s', 'total', 'planned', 'capital', 'expenditure', 'falls', '2030', 'deadline', 'receive', 'government', 'support', 'ohio', 'construction', 'originally', 'supposed', 'finish', 'late', '2026', 'intel', 'plans', 'complete', 'first', 'factory', 'end', 'decade', 'second', '2030', 'means', 'chipmaker’s', 'final', 'award', 'support', 'first', 'ohio', 'plant', 'according', 'administration', 'official', 'another', 'person', 'familiar', 'matter', 'intel’s', 'arizona', 'site', 'also', 'slightly', 'delayed', 'production', 'originally', 'expected', 'begin', 'end', 'year', 'start', '2025', 'senior', 'official', 'said', 'company', 'already', 'completed', 'construction', 'advanced', 'packaging', 'plant', 'new', 'mexico', 'made', 'investments', 'research', 'development', 'facility', 'oregon', 'told', 'intel', 'spent', '30', 'billion', 'us', 'buildout', 'gelsinger', 'hinged', 'ambitious', 'corporate', 'comeback', 'updates', 'context', 'trump’s', 'stance', 'chips', 'act', 'sixth', 'paragraph', 'read', 'bloomberg', 'businessweek', 'happens', 'us', 'hospitals', 'go', 'big', 'nurse', 'practitioners', 'flying', 'experience', 'feels', 'much', 'worse', 'charm', 'bracelet', 'shop', 'keeps', 'going', 'viral', 'clear’s', 'dominance', 'airports', 'could', 'coming', 'end', 'airline’s', 'florida', 'resort', 'dreams', 'look', 'like', 'nightmare', '©2024', 'bloomberg', 'sign', 'access', 'portfolio']\n",
      "--------------------------------------------------\n",
      "⭐ Rank 3:\n",
      "   - Document Index: 112\n",
      "   - BM25 Score: 15.7480\n",
      "   - Document Content:\n",
      "['news', 'day', 'nov', '26', '2024', 'angela', 'weiss', 'afp', 'via', 'getty', 'images', 'president', 'elect', 'donald', 'trump', 'says', 'enact', '25', 'tariff', 'products', 'mexico', 'canada', 'first', 'day', 'office', 'well', '10', 'tariffs', 'chinese', 'made', 'products', 'stock', 'futures', 'little', 'changed', 'investors', 'digest', 'tariffs', 'vow', 'kohl', 'kss', 'stock', 'sinking', 'weak', 'results', 'news', 'ceo', 'stepping', 'zoom', 'communications', 'zm', 'shares', 'despite', 'better', 'expected', 'quarterly', 'results', 'intel', 'intc', 'receives', 'nearly', 'billion', 'chips', 'act', 'funding', 'qualcomm', 'reportedly', 'cooled', 'idea', 'acquiring', 'chipmaker', 'investors', 'need', 'know', 'today', 'president', 'elect', 'donald', 'trump', 'said', 'impose', 'tariffs', 'products', 'coming', 'country', 'mexico', 'canada', 'china', 'reflecting', 'intention', 'fulfill', 'campaign', 'promise', 'post', 'truth', 'social', 'media', 'site', 'trump', 'said', 'jan', '20', '2025', 'first', 'day', 'presidency', 'sign', 'executive', 'order', 'impose', '25', 'tariff', 'products', 'coming', 'mexico', 'canada', 'citing', 'high', 'levels', 'illegal', 'immigration', 'drug', 'trafficking', 'separate', 'post', 'said', 'enact', '10', 'tariff', 'chinese', 'made', 'goods', 'specify', 'timeline', 'implementing', 'levy', 'imports', 'stock', 'futures', 'little', 'changed', 'investors', 'digest', 'potential', 'economic', 'changes', 'could', 'come', 'trump', 'announcement', 'tariffs', 'believe', 'could', 'help', 'increase', 'inflation', 'flat', 'early', 'performance', 'follows', 'session', 'markets', 'continued', 'post', 'election', 'rally', 'including', 'record', 'high', 'close', 'dow', 'jones', 'industrial', 'average', 'whose', 'futures', 'ticking', 'lower', 'futures', 'nasdaq', '500', 'yields', '10', 'year', 'treasury', 'note', 'little', 'changed', 'remaining', 'level', 'bitcoin', 'btcusd', 'trading', 'around', '92', '000', 'price', 'level', 'stepping', 'back', 'recent', 'highs', 'kohl', 'kss', 'stock', 'plummeting', '16', 'premarket', 'trading', 'reported', 'weaker', 'expected', 'third', 'quarter', 'earnings', 'tuesday', 'day', 'announced', 'chief', 'executive', 'officer', 'ceo', 'tom', 'kingsbury', 'stepping', 'less', 'two', 'years', 'running', 'struggling', 'retailer', 'kingsbury', 'named', 'ceo', 'february', '2023', 'leave', 'post', 'jan', '15', 'replaced', 'ashley', 'buchanan', 'ceo', 'michaels', 'companies', 'department', 'store', 'chain', 'reported', 'profit', '22', 'million', 'revenue', '51', 'billion', 'analysts', 'polled', 'visible', 'alpha', 'looking', '29', 'million', '85', 'billion', 'respectively', 'zoom', 'communications', 'zm', 'stock', 'sinking', 'premarket', 'trading', 'even', 'though', 'remote', 'video', 'communication', 'company', 'posted', 'better', 'expected', 'results', 'third', 'quarter', 'company', 'reported', 'year', 'year', 'revenue', 'growth', '18', 'billion', 'visible', 'alpha', 'consensus', 'net', 'income', '207', 'million', '66', 'cents', 'per', 'share', 'also', 'topped', 'estimates', 'zoom', 'raised', 'full', 'year', 'outlook', 'revenue', 'adjusted', 'earnings', 'per', 'share', 'eps', 'also', 'reported', 'adding', 'new', 'customers', 'also', 'announced', 'name', 'changed', 'zoom', 'communications', 'zoom', 'video', 'communications', 'focuses', 'artificial', 'intelligence', 'ai', 'intel', 'intc', 'announced', 'receive', 'nearly', 'billion', 'government', 'funding', 'part', 'grant', 'chips', 'science', 'act', 'grant', 'less', 'amount', 'revealed', 'march', 'announcement', 'company', 'also', 'receiving', 'billion', 'defense', 'department', 'funding', 'improve', 'microchip', 'production', 'meanwhile', 'bloomberg', 'reported', 'executives', 'qualcomm', 'qcom', 'cooling', 'idea', 'mounting', 'takeover', 'bid', 'intel', 'shares', 'intel', 'little', 'changed', 'premarket', 'trading', 'sign', 'access', 'portfolio']\n",
      "--------------------------------------------------\n",
      "⭐ Rank 4:\n",
      "   - Document Index: 42\n",
      "   - BM25 Score: 10.7012\n",
      "   - Document Content:\n",
      "['pittsburgh', 'reuters', 'oil', 'gas', 'lobbying', 'groups', 'said', 'tuesday', 'wary', 'president', 'elect', 'donald', 'trump', 'threat', 'tariffs', 'canada', 'mexico', 'saying', 'policies', 'could', 'affect', 'consumers', 'industry', 'security', 'trump', 'takes', 'office', 'jan', '20', 'vowed', 'impose', '25', 'tariff', 'imports', 'canada', 'mexico', 'two', 'america', 'biggest', 'trading', 'partners', 'clamped', 'drugs', 'particularly', 'fentanyl', 'migrants', 'crossing', 'border', 'move', 'appear', 'violate', 'free', 'trade', 'deal', 'drilling', 'refining', 'industry', 'lobbying', 'groups', 'warned', 'could', 'big', 'impacts', 'across', 'board', 'trade', 'policies', 'could', 'inflate', 'cost', 'imports', 'reduce', 'accessible', 'supplies', 'oil', 'feedstocks', 'products', 'provoke', 'retaliatory', 'tariffs', 'potential', 'impact', 'consumers', 'undercut', 'advantage', 'world’s', 'leading', 'maker', 'liquid', 'fuels', 'said', 'spokesperson', 'american', 'fuel', 'petrochemical', 'manufacturers', 'group', 'afpm', 'said', 'industries', 'continue', 'urging', 'officials', 'veer', 'clear', 'policies', 'could', 'disrupt', 'america', 'energy', 'advantage', 'american', 'petroleum', 'institute', 'said', 'response', 'question', 'threatened', 'tariffs', 'keeping', 'trade', 'energy', 'across', 'borders', 'key', 'canada', 'top', 'supplier', 'oil', 'united', 'states', 'sent', 'nearly', 'million', 'barrels', 'per', 'day', 'crude', 'united', 'states', 'last', 'year', 'canada', 'mexico', 'top', 'energy', 'trading', 'partners', 'maintaining', 'free', 'flow', 'energy', 'products', 'across', 'borders', 'critical', 'north', 'american', 'energy', 'security', 'consumers', 'said', 'api', 'spokesperson', 'scott', 'lauermann', 'reporting', 'timothy', 'gardner', 'editing', 'jonathan', 'oatis', 'trump', 'pick', 'treasury', 'secretary', 'wants', 'cut', 'federal', 'deficits', 'levels', 'barack', 'obama', 'presidency', 'days', 'long', 'gone', 'bloomberg', 'oil', 'gas', 'producers', 'us', 'raise', 'output', 'significantly', 'coming', 'years', 'despite', 'calls', 'president', 'elect', 'donald', 'trump', '“drill', 'baby', 'drill', 'said', 'exxon', 'mobil', 'corp', '’s', 'upstream', 'president', 'liam', 'mallon', '“i', 'think', 'radical', 'change', 'unlikely', 'vast', 'majority', 'everybody', 'primarily', 'focused', 'economics', 'they’re', 'mallon', 'said', 'tuesday', 'conference', 'london', 'trump', 'expected', 'open', 'federal', 'lands', 'oil', 'gas', 'drilling', 'early', 'reviews', 'treasury', 'secretary', 'nominee', 'scott', 'bessent', 'wall', 'street', 'positive', 'hard', 'part', 'begins', 'president', 'elect', 'donald', 'trump', 'said', 'impose', '10', 'tariff', 'china', '25', 'tariff', 'canada', 'mexico', 'first', 'day', 'office', 'president', 'elect', 'donald', 'trump', 'chosen', 'hedge', 'fund', 'manager', 'george', 'soros', 'protege', 'scott', 'bessent', 'lead', 'department', 'treasury', 'political', 'economic', 'observers', 'might', 'want', 'familiarize', 'wonky', 'concept', 'impoundment', 'donald', 'trump', 'first', 'buddy', 'elon', 'musk', 'could', 'make', 'front', 'center', '2025', '“meanwhile', 'idiots', 'still', 'building', 'manned', 'fighter', 'jets', 'like', '35', 'musk', 'posted', 'whether', 'retired', 'still', 'working', 'important', 'information', 'know', 'elon', 'musk', 'co', 'head', 'president', 'elect', 'donald', 'trump', 'department', 'government', 'efficiency', 'ridiculed', '35', 'fighter', 'jets', 'hit', 'lockheed', 'martin', '35', 'defense', 'stocks', 'intel', 'corporation', 'nasdaq', 'intc', 'biden', 'harris', 'administration', 'announced', 'department', 'commerce', 'award', 'intel', '86', 'billion', 'funding', 'chips', 'science', 'act', 'funding', 'support', 'semiconductor', 'manufacturing', 'advanced', 'packaging', 'projects', 'intel’s', 'facilities', 'arizona', 'new', 'mexico', 'ohio', 'oregon', 'additionally', 'intel', 'plans', 'leverage', 'treasury', 'department’s', 'investment', 'tax', 'credit', 'covering', '25', 'qualified', 'investments', 'exceeding', '100', 'bill', 'sign', 'access', 'portfolio']\n",
      "--------------------------------------------------\n",
      "⭐ Rank 5:\n",
      "   - Document Index: 83\n",
      "   - BM25 Score: 10.0242\n",
      "   - Document Content:\n",
      "['bloomberg', 'digicel', 'group', 'told', 'creditors', 'cooperating', 'us', 'justice', 'department', 'potential', 'violations', 'foreign', 'corrupt', 'practices', 'act', 'read', 'bloomberg', 'new', 'york', 'city’s', '‘living', 'breakwaters’', 'brace', 'stormier', 'seas', 'kansas', 'city', 'first', 'ever', 'stadium', 'designed', 'women’s', 'sports', 'takes', 'field', 'nyc', 'underground', 'steam', 'system', 'may', 'key', 'greener', 'future', 'nyc', 'gets', 'historic', 'push', '80', '000', 'homes', 'billion', 'pledge', 'international', 'mobile', 'operator', 'reported', 'improved', 'earnings', 'year', 'restructuring', 'debt', 'disclosed', 'creditors', 'cooperating', 'doj', 'call', 'friday', 'voluntarily', 'reporting', 'company', 'declined', 'give', 'details', 'scope', 'geography', 'quantum', 'scrutiny', 'facing', 'respond', 'questions', 'private', 'bondholder', 'call', '“we', 'voluntarily', 'disclosed', 'us', 'department', 'justice', 'information', 'related', 'possible', 'violations', 'us', 'foreign', 'corrupt', 'practices', 'act', 'spokesperson', 'digicel', 'said', 'emailed', 'statement', 'monday', 'response', 'bloomberg', 'queries', '“we', 'cooperating', 'fully', 'doj', 'continue', 'digicel’s', 'billion', 'payment', 'kind', 'bond', 'due', '2027', 'dropped', 'end', 'last', 'week', 'trading', 'around', '96', 'cents', 'dollar', 'monday', 'afternoon', 'new', 'york', 'time', 'according', 'trace', 'pricing', 'data', 'disclosure', 'made', 'bondholders', 'last', 'week', 'seen', 'bloomberg', 'news', 'company', 'said', 'possible', 'violations', 'number', 'jurisdictions', 'digicel', 'also', 'warned', 'outcome', 'investigations', 'unknown', 'could', 'material', 'firm’s', 'financial', 'condition', 'founded', 'irish', 'tycoon', 'denis', 'o’brien', 'digicel', 'operates', 'caribbean', 'central', 'america', 'last', 'year', 'firm', 'taken', 'creditors', 'including', 'pgim', 'inc', 'contrarian', 'capital', 'management', 'part', 'deal', 'cut', 'debt', 'billion', 'spokesperson', 'doj', 'declined', 'comment', 'representatives', 'contrarian', 'pgim', 'respond', 'requests', 'comment', '“digicel', 'committed', 'conducting', 'business', 'adherence', 'laws', 'regulations', 'jurisdictions', 'operate', 'supported', 'rigorous', 'ethics', 'compliance', 'program', 'digicel', 'spokesperson', 'added', 'assistance', 'chris', 'strohm', 'updates', 'chart', 'read', 'bloomberg', 'businessweek', 'happens', 'us', 'hospitals', 'go', 'big', 'nurse', 'practitioners', 'flying', 'experience', 'feels', 'much', 'worse', 'charm', 'bracelet', 'shop', 'keeps', 'going', 'viral', 'clear’s', 'dominance', 'airports', 'could', 'coming', 'end', 'airline’s', 'florida', 'resort', 'dreams', 'look', 'like', 'nightmare', '©2024', 'bloomberg', 'wood', 'firm', 'makes', 'move', 'two', 'biggest', 'names', 'tech', 'sector', 'investor', 'looking', 'high', 'yield', 'investments', 'solid', 'upside', 'potential', 'perhaps', 'better', 'place', 'look', 'energy', 'midstream', 'space', 'sector', 'gone', 'transformation', 'past', 'decade', 'midstream', 'companies', 'reducing', 'leverage', 'disciplined', 'comes', 'funding', 'growth', 'projects', 'backdrop', 'let', 'look', 'three', 'great', 'mlps', 'enterprise', 'products', 'partners', 'nyse', 'epd', 'energy', 'transfer', 'nyse', 'et', 'western', 'midstream', 'nyse', 'wes', 'investors', 'might', 'want', 'consider', 'buying', 'holding', 'forever', 'last', 'week', 'fund', 'managers', 'certain', 'size', 'disclosed', 'stock', 'holdings', 'third', 'quarter', 'ending', 'sept', '30', 'fund', 'managers', 'required', '45', 'days', 'close', 'quarter', '13f', 'form', 'filed', 'securities', 'exchange', 'commission', 'sec', 'one', 'investor', 'filed', '13f', 'form', 'michael', 'burry', 'scion', 'asset', 'management', 'nvidia', 'nasdaq', 'nvda', 'supplies', 'advanced', 'graphics', 'processing', 'units', 'gpus', 'developing', 'artificial', 'intelligence', 'ai', 'models', 'many', 'world', 'largest', 'technology', 'companies', 'spending', 'boatloads', 'money', 'fill', 'data', 'centers', 'chips', 'jostle', 'leadership', 'ai', 'race', 'result', 'nvidia', 'data', 'center', 'revenue', 'generated', 'triple', 'digit', 'percentage', 'growth', 'last', 'six', 'quarters', 'lot', 'good', 'things', 'happened', 'conocophillips', 'nyse', 'cop', 'none', 'matter', 'much', 'one', 'overriding', 'issue', 'trying', 'build', 'million', 'dollar', 'portfolio', 'energy', 'giant', 'could', 'help', 'get', 'end', 'may', '2024', 'conocophillips', 'announced', 'planning', 'buy', 'marathon', 'oil', 'englander', 'taken', 'contrarian', 'approach', 'selling', 'wall', 'street', 'hottest', 'artificial', 'intelligence', 'ai', 'stock', 'favor', 'premier', 'healthcare', 'company', '90', 'time', 'high', 'factors', 'contributing', 'upside', 'include', 'enthusiasm', 'artificial', 'intelligence', 'strong', 'corporate', 'earnings', 'encouraging', 'economic', 'data', 'federal', 'reserve', 'recent', 'pivot', 'interest', 'rate', 'cuts', 'also', 'bolstered', 'investor', 'sentiment', 'policymakers', 'raised', 'federal', 'funds', 'rate', 'fastest', 'pace', 'decades', 'stamp', 'fierce', 'inflation', 'post', 'pandemic', 'chevron’s', 'exploration', 'african', 'country', 'could', 'big', 'catalyst', 'new', 'discovery', 'made', 'citi', 'strategists', 'say', 'consider', 'example', 'study', 'hartford', 'funds', 'ned', 'davis', 'research', 'found', '1973', '2023', 'companies', 'grew', 'initiated', 'dividend', 'payments', 'delivered', 'annualized', 'returns', '10', 'dividend', 'non', 'payers', 'delivered', 'equal', 'weight', '500', 'fund', 'averaged', 'healthy', 'growing', 'dividend', 'payers', 'tend', 'stock', 'prices', 'rise', 'time', 'paying', 'dividends', 'also', 'increased', 'time', 'given', 'stock', 'profile', 'might', 'think', 'smart', 'snap', 'fattest', 'dividend', 'yields', 'find', 'perhaps', 'focusing', 'biggest', 'dividend', 'yields', '500', 'nvidia', 'nasdaq', 'nvda', 'stock', 'roared', 'higher', 'recent', 'years', 'continued', 'momentum', 'year', 'heading', 'gain', '185', 'nvidia', 'become', 'go', 'company', 'ai', 'counts', 'world', 'top', 'tech', 'companies', 'customers', 'strength', 'along', 'growth', 'forecast', 'entire', 'ai', 'market', 'make', 'nvidia', 'great', 'long', 'term', 'stock', 'sign', 'access', 'portfolio']\n",
      "--------------------------------------------------\n"
     ]
    }
   ],
   "source": [
    "query = preprocess_query(query)\n",
    "bm25_instance = bm25.BM25(df[\"content\"],k1=1.5, b=0.75)\n",
    "rank_query_bm25(bm25_instance, query, summarize_docs=False)\n"
   ]
  },
  {
   "cell_type": "code",
   "execution_count": 5,
   "id": "92ce1b87-3788-4753-83a0-8f8878aa2635",
   "metadata": {},
   "outputs": [
    {
     "name": "stdout",
     "output_type": "stream",
     "text": [
      "0\n"
     ]
    }
   ],
   "source": [
    "count=0\n",
    "for i in range(len(df)):\n",
    "    article = df.iloc[i][\"content\"]\n",
    "    if len(article) < 100:\n",
    "        count+=1\n",
    "        print(article)\n",
    "print(count)"
   ]
  },
  {
   "cell_type": "code",
   "execution_count": 98,
   "id": "5f4015b4-d852-44e2-af4a-0434c96ccc74",
   "metadata": {},
   "outputs": [
    {
     "data": {
      "text/plain": [
       "'By Gary McWilliams and Marianna Parraga HOUSTON (Reuters) - Court advisers have billed nearly $30 million for a stalled auction of shares in a parent of Venezuela-owned oil refiner Citgo Petroleum, raising the ire of creditors that have waited years to get compensation. Citgo, the crown jewel of Venezuela\\'s overseas assets, sits at the center of a Delaware court auction in which 18 companies seek to collect up to $21.3 billion for debt defaults and expropriations in the South American country. Bids in the auction\\'s second round were submitted this year, and the advisers, including an officer appointed by the court to oversee the process, were to deliver a recommended winner in July. The advisers went on to negotiate exclusively with an affiliate of investor Elliott Investment Management, which has resulted in a bid opposed by many creditors as deficient. Four creditors in a court filing challenged the advisers\\' $4.1 million bill for September, saying fees \"have increased by a staggering amount\" and were likely to go higher. The latest bill is five-and-a-half times the fees for September 2023 and includes costs for more than 70 law firm employees, with individual charges up to $2,350 an hour. Rusoro Mining, which has a pending $1.48 billion claim in the case, also criticized the advisers\\' reworking of one proposal, calling the result neither \"a material improvement or a helpful development.\" U.S. Judge Leonard Stark last week rebuked law firm Weil, Gotshal & Manges, investment banker Evercore and court official Robert Pincus for not following his rules in their dealings with Elliott affiliate Amber. Representatives for Weil, Evercore, and Pincus did not reply to requests for comment. Stark proposed to redirect the auction, leave behind one of the red lines set by Amber, provide bid details to the 18 companies and provide them a say in how proceeds are to be distributed. Amber has threatened to walk away if the auction proceeds as Stark has indicated he wants it to go. An Amber spokesperson did not have an immediate comment. The revised process is expected to lead to at least two bids once Citgo reopens access to its financial and operational data. The winner could receive three U.S. oil refineries, energy pipelines, distribution terminals, and fuel supply to 4,200 retail outlets. Groups involved in the auction have repeatedly told Pincus that he \"should stop wasting time and money pursuing Elliott\\'s non-viable and inadequate bid,\" an attorney for Venezuela wrote to the court. (Reporting by Gary McWilliams and Marianna Parraga, Editing by Rosalba O\\'Brien) Sign in to access your portfolio'"
      ]
     },
     "execution_count": 98,
     "metadata": {},
     "output_type": "execute_result"
    }
   ],
   "source": [
    "df.iloc[91][\"content\"]"
   ]
  },
  {
   "cell_type": "code",
   "execution_count": null,
   "id": "8bfb90d7-9737-49f9-ba8b-6e1d9eee60f0",
   "metadata": {},
   "outputs": [],
   "source": []
  }
 ],
 "metadata": {
  "kernelspec": {
   "display_name": "Python 3 (ipykernel)",
   "language": "python",
   "name": "python3"
  },
  "language_info": {
   "codemirror_mode": {
    "name": "ipython",
    "version": 3
   },
   "file_extension": ".py",
   "mimetype": "text/x-python",
   "name": "python",
   "nbconvert_exporter": "python",
   "pygments_lexer": "ipython3",
   "version": "3.11.7"
  }
 },
 "nbformat": 4,
 "nbformat_minor": 5
}
