{
 "cells": [
  {
   "cell_type": "code",
   "execution_count": 4,
   "metadata": {},
   "outputs": [
    {
     "name": "stdout",
     "output_type": "stream",
     "text": [
      "CSV file saved at: queries_for_documents.csv\n"
     ]
    }
   ],
   "source": [
    "import pandas as pd\n",
    "\n",
    "# Creating a list of queries and doc_indices\n",
    "queries = [\n",
    "    \"Why is Australia's monetary policy still seen as powerful even though a lot of households have high mortgage debt?\",\n",
    "    \"What's Palo Alto Networks' revenue forecast for the second quarter, and how does it stack up against what analysts expected?\",\n",
    "    \"How could institutional investments affect Bitcoin's price through 2025?\",\n",
    "    \"Hey, I've been hearing that some AI companies are getting into hardware. What challenges do these companies face when trying to bring AI devices to market?\",\n",
    "    \"What impact could increased tariffs have on the cost of goods for companies, and how might that affect consumers?\",\n",
    "    \"Why is the U.S. government reducing Intel's chips grant, and what factors are contributing to the change?\",\n",
    "    \"What is Israel considering regarding a cease-fire with Hezbollah, and what would the terms be?\",\n",
    "    \"How have Baidu's shares performed this year, and what’s the outlook for its upcoming earnings report?\",\n",
    "    \"What challenges does the U.S. face in reaching an agreement over the future of Colorado River water use, and what are the possible solutions being discussed?\",\n",
    "    \"Why are creditors frustrated with the stalled auction of Citgo Petroleum shares?\",\n",
    "    \"How did Zoom's third-quarter results compare to analyst expectations, and what challenges is the company facing in maintaining its customer base?\",\n",
    "    \"How do geopolitical risks, valuation mismatches, and economic conditions affect the IPO landscape in Spain?\",\n",
    "    \"Why is Ford planning to reduce its workforce in Europe and the U.K., and what are the challenges it faces in the electric vehicle market?\",\n",
    "    \"What's going on with Ricardo Salinas Pliego's financial situation, and why is Grupo Elektra's stock trading halt causing so many issues?\",\n",
    "    \"Why do experts believe Russia may not be able to sustain its war in Ukraine beyond 2025?\",\n",
    "    \"What are the key players in the brain-computer interface market, and how are they competing to be the first to launch commercially?\",\n",
    "    \"What strategies are airlines using to attract premium passengers, and how is this affecting their financial performance?\",\n",
    "    \"How is Pocket FM using AI to expand its content library and improve production efficiency?\",\n",
    "    \"What is SoftBank's plan to acquire shares in OpenAI, and how does this fit into its broader investment strategy in AI?\",\n",
    "    \"What factors are influencing the FHFA's decision to raise the conforming loan limit, and what does this mean for the real estate market?\",\n",
    "    \"How does New Lantern plan to disrupt the radiology software market, and what impact could it have on the industry?\",\n",
    "    \"How is Dell's AI server business performing, and what impact have delays in Nvidia's Blackwell AI chips had on its revenue?\",\n",
    "    \"How did the potential cease-fire between Israel and Hezbollah affect oil prices, and why are traders anticipating a reduction in supply risks?\",\n",
    "    \"What impact is the decline in recession fears and growing optimism about jobs and finances having on consumer confidence and spending patterns?\",\n",
    "    \"What are the main reasons why FIS and Fiserv are seeing significant stock growth, and what outlook do analysts have for these companies in the coming years?\"\n",
    "]\n",
    "\n",
    "doc_indices = [\n",
    "    551, 400, 377, 240, 516, 345, 213, 370, 554, 276, \n",
    "    51, 299, 567, 234, 354, 519, 495, 28, 55, 170, 421, \n",
    "    58, 167, 287, 311\n",
    "]\n",
    "\n",
    "# Creating a DataFrame\n",
    "df = pd.DataFrame({'query': queries, 'doc_index': doc_indices})\n",
    "\n",
    "# Saving to CSV\n",
    "csv_file_path = 'queries_for_documents.csv'\n",
    "df.to_csv(csv_file_path, index=False)\n",
    "\n",
    "print(f\"CSV file saved at: {csv_file_path}\")\n"
   ]
  },
  {
   "cell_type": "code",
   "execution_count": null,
   "metadata": {},
   "outputs": [],
   "source": []
  }
 ],
 "metadata": {
  "kernelspec": {
   "display_name": "Python 3",
   "language": "python",
   "name": "python3"
  },
  "language_info": {
   "codemirror_mode": {
    "name": "ipython",
    "version": 3
   },
   "file_extension": ".py",
   "mimetype": "text/x-python",
   "name": "python",
   "nbconvert_exporter": "python",
   "pygments_lexer": "ipython3",
   "version": "3.12.0"
  }
 },
 "nbformat": 4,
 "nbformat_minor": 4
}
