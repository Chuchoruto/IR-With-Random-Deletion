{
 "cells": [
  {
   "cell_type": "code",
   "execution_count": 31,
   "id": "3fd6f34b-fcc9-4322-b005-ceef8d2e6d41",
   "metadata": {},
   "outputs": [],
   "source": [
    "from pymilvus import MilvusClient, DataType\n",
    "from openai import OpenAI, Embedding\n",
    "from sentence_transformers import SentenceTransformer\n",
    "import pandas as pd\n",
    "import time\n",
    "import numpy as np\n",
    "import json\n"
   ]
  },
  {
   "cell_type": "code",
   "execution_count": 32,
   "id": "a6aadbd4-9120-432d-a0d5-e061617549b6",
   "metadata": {},
   "outputs": [],
   "source": [
    "milvus_client = MilvusClient(\n",
    "    uri=\"http://localhost:19530\"\n",
    ")\n"
   ]
  },
  {
   "cell_type": "code",
   "execution_count": 33,
   "id": "cd0df068-efe4-4c4f-bdd9-f9bf85ed5193",
   "metadata": {},
   "outputs": [],
   "source": [
    "queries = pd.read_csv(\"example_queries.csv\")"
   ]
  },
  {
   "cell_type": "code",
   "execution_count": 34,
   "id": "b4f20230-43d8-4309-a004-7bbd380cca2e",
   "metadata": {},
   "outputs": [
    {
     "name": "stderr",
     "output_type": "stream",
     "text": [
      "C:\\Python311\\Lib\\site-packages\\huggingface_hub\\file_download.py:797: FutureWarning: `resume_download` is deprecated and will be removed in version 1.0.0. Downloads always resume when possible. If you want to force a new download, use `force_download=True`.\n",
      "  warnings.warn(\n"
     ]
    }
   ],
   "source": [
    "### BERT Embeddings\n",
    "model = SentenceTransformer(\"all-MiniLM-L6-v2\")\n",
    "def get_embeddings_from_bert(sentence):\n",
    "    return model.encode([sentence])[0]\n",
    "\n"
   ]
  },
  {
   "cell_type": "code",
   "execution_count": 35,
   "id": "ccfca25f-f212-4fca-97e2-f01bde33de7e",
   "metadata": {},
   "outputs": [
    {
     "data": {
      "text/html": [
       "<div>\n",
       "<style scoped>\n",
       "    .dataframe tbody tr th:only-of-type {\n",
       "        vertical-align: middle;\n",
       "    }\n",
       "\n",
       "    .dataframe tbody tr th {\n",
       "        vertical-align: top;\n",
       "    }\n",
       "\n",
       "    .dataframe thead th {\n",
       "        text-align: right;\n",
       "    }\n",
       "</style>\n",
       "<table border=\"1\" class=\"dataframe\">\n",
       "  <thead>\n",
       "    <tr style=\"text-align: right;\">\n",
       "      <th></th>\n",
       "      <th>query</th>\n",
       "      <th>document</th>\n",
       "    </tr>\n",
       "  </thead>\n",
       "  <tbody>\n",
       "    <tr>\n",
       "      <th>0</th>\n",
       "      <td>How much did OPAP's gross gaming revenue incre...</td>\n",
       "      <td>0</td>\n",
       "    </tr>\n",
       "    <tr>\n",
       "      <th>1</th>\n",
       "      <td>How expensive is owning a home?</td>\n",
       "      <td>6</td>\n",
       "    </tr>\n",
       "  </tbody>\n",
       "</table>\n",
       "</div>"
      ],
      "text/plain": [
       "                                               query  document\n",
       "0  How much did OPAP's gross gaming revenue incre...         0\n",
       "1                    How expensive is owning a home?         6"
      ]
     },
     "execution_count": 35,
     "metadata": {},
     "output_type": "execute_result"
    }
   ],
   "source": [
    "queries.head()"
   ]
  },
  {
   "cell_type": "code",
   "execution_count": 36,
   "id": "a6bf7eeb-5862-4fe3-b592-173e3fb92005",
   "metadata": {},
   "outputs": [],
   "source": [
    "def compute_score(row, p):\n",
    "\n",
    "    query, ground_truth_document_id = row[\"query\"], row[\"document\"]\n",
    "    \n",
    "    embedded_query = get_embeddings_from_bert(query)\n",
    "    \n",
    "    collection_name = f\"yahoo_finance_article_DROPOUT_{int(p * 100)}\"\n",
    "\n",
    "    res = milvus_client.search(\n",
    "        collection_name=collection_name,\n",
    "        data=[embedded_query],\n",
    "        limit=5,\n",
    "        search_params={\"metric_type\": \"IP\", \"params\": {}} # Search parameters\n",
    "    )\n",
    "\n",
    "    top1 = 1 if ground_truth_document_id in [r[\"id\"] for r in res[0]][:1] else 0\n",
    "    top3 = 1 if ground_truth_document_id in [r[\"id\"] for r in res[0]][:3] else 0\n",
    "    top5 = 1 if ground_truth_document_id in [r[\"id\"] for r in res[0]][:5] else 0\n",
    "\n",
    "    return (top1, top3, top5)"
   ]
  },
  {
   "cell_type": "code",
   "execution_count": 37,
   "id": "0f0aed0f-4a8d-4602-97a5-006fbb35f648",
   "metadata": {},
   "outputs": [],
   "source": [
    "for p in [0, 0.1, 0.3, 0.5, 0.7, 0.9]:\n",
    "    # queries[\"scores\"] = queries[\"query\"].map(lambda x: compute_score(x, p))\n",
    "    queries[f\"scores_{p}\"] = queries.apply(lambda x: compute_score(x, p), axis=1)\n",
    "\n"
   ]
  },
  {
   "cell_type": "code",
   "execution_count": 38,
   "id": "6332566a-a86a-4970-b765-26eb1b38c9be",
   "metadata": {},
   "outputs": [
    {
     "data": {
      "text/html": [
       "<div>\n",
       "<style scoped>\n",
       "    .dataframe tbody tr th:only-of-type {\n",
       "        vertical-align: middle;\n",
       "    }\n",
       "\n",
       "    .dataframe tbody tr th {\n",
       "        vertical-align: top;\n",
       "    }\n",
       "\n",
       "    .dataframe thead th {\n",
       "        text-align: right;\n",
       "    }\n",
       "</style>\n",
       "<table border=\"1\" class=\"dataframe\">\n",
       "  <thead>\n",
       "    <tr style=\"text-align: right;\">\n",
       "      <th></th>\n",
       "      <th>query</th>\n",
       "      <th>document</th>\n",
       "      <th>scores_0</th>\n",
       "      <th>scores_0.1</th>\n",
       "      <th>scores_0.3</th>\n",
       "      <th>scores_0.5</th>\n",
       "      <th>scores_0.7</th>\n",
       "      <th>scores_0.9</th>\n",
       "    </tr>\n",
       "  </thead>\n",
       "  <tbody>\n",
       "    <tr>\n",
       "      <th>0</th>\n",
       "      <td>How much did OPAP's gross gaming revenue incre...</td>\n",
       "      <td>0</td>\n",
       "      <td>(1, 1, 1)</td>\n",
       "      <td>(1, 1, 1)</td>\n",
       "      <td>(1, 1, 1)</td>\n",
       "      <td>(1, 1, 1)</td>\n",
       "      <td>(1, 1, 1)</td>\n",
       "      <td>(1, 1, 1)</td>\n",
       "    </tr>\n",
       "    <tr>\n",
       "      <th>1</th>\n",
       "      <td>How expensive is owning a home?</td>\n",
       "      <td>6</td>\n",
       "      <td>(1, 1, 1)</td>\n",
       "      <td>(1, 1, 1)</td>\n",
       "      <td>(1, 1, 1)</td>\n",
       "      <td>(1, 1, 1)</td>\n",
       "      <td>(1, 1, 1)</td>\n",
       "      <td>(1, 1, 1)</td>\n",
       "    </tr>\n",
       "  </tbody>\n",
       "</table>\n",
       "</div>"
      ],
      "text/plain": [
       "                                               query  document   scores_0  \\\n",
       "0  How much did OPAP's gross gaming revenue incre...         0  (1, 1, 1)   \n",
       "1                    How expensive is owning a home?         6  (1, 1, 1)   \n",
       "\n",
       "  scores_0.1 scores_0.3 scores_0.5 scores_0.7 scores_0.9  \n",
       "0  (1, 1, 1)  (1, 1, 1)  (1, 1, 1)  (1, 1, 1)  (1, 1, 1)  \n",
       "1  (1, 1, 1)  (1, 1, 1)  (1, 1, 1)  (1, 1, 1)  (1, 1, 1)  "
      ]
     },
     "execution_count": 38,
     "metadata": {},
     "output_type": "execute_result"
    }
   ],
   "source": [
    "queries.head()"
   ]
  },
  {
   "cell_type": "code",
   "execution_count": 39,
   "id": "c9379c7e-a4f2-4742-9e39-2514a4dcfb76",
   "metadata": {},
   "outputs": [],
   "source": [
    "scores_percentage = {}\n",
    "\n",
    "for p in [0, 0.1, 0.3, 0.5, 0.7, 0.9]:\n",
    "    scores_percentage[str(p)] = tuple(\n",
    "        sum(values) / len(values) for values in zip(*queries[f'scores_{p}'])\n",
    "    )"
   ]
  },
  {
   "cell_type": "code",
   "execution_count": 40,
   "id": "a74c7b9e-589c-4543-b92b-014247331bbc",
   "metadata": {},
   "outputs": [
    {
     "data": {
      "text/plain": [
       "{'0': (1.0, 1.0, 1.0),\n",
       " '0.1': (1.0, 1.0, 1.0),\n",
       " '0.3': (1.0, 1.0, 1.0),\n",
       " '0.5': (1.0, 1.0, 1.0),\n",
       " '0.7': (1.0, 1.0, 1.0),\n",
       " '0.9': (1.0, 1.0, 1.0)}"
      ]
     },
     "execution_count": 40,
     "metadata": {},
     "output_type": "execute_result"
    }
   ],
   "source": [
    "scores_percentage"
   ]
  },
  {
   "cell_type": "code",
   "execution_count": null,
   "id": "8f07f9b3-b9c5-4518-a08f-db2c4613c6d2",
   "metadata": {},
   "outputs": [],
   "source": []
  }
 ],
 "metadata": {
  "kernelspec": {
   "display_name": "Python 3 (ipykernel)",
   "language": "python",
   "name": "python3"
  },
  "language_info": {
   "codemirror_mode": {
    "name": "ipython",
    "version": 3
   },
   "file_extension": ".py",
   "mimetype": "text/x-python",
   "name": "python",
   "nbconvert_exporter": "python",
   "pygments_lexer": "ipython3",
   "version": "3.11.4"
  }
 },
 "nbformat": 4,
 "nbformat_minor": 5
}
