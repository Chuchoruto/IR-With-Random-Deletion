{
 "cells": [
  {
   "cell_type": "code",
   "execution_count": 27,
   "id": "c328c746-3c52-4bea-8d50-2cec1da3cdba",
   "metadata": {},
   "outputs": [],
   "source": [
    "from pymilvus import MilvusClient, DataType\n",
    "from openai import OpenAI, Embedding\n",
    "from sentence_transformers import SentenceTransformer\n",
    "import pandas as pd\n",
    "import time\n",
    "import numpy as np\n"
   ]
  },
  {
   "cell_type": "code",
   "execution_count": 28,
   "id": "320c907c-a078-4a4b-acc2-275502735b71",
   "metadata": {},
   "outputs": [],
   "source": [
    "milvus_client = MilvusClient(\n",
    "    uri=\"http://localhost:19530\"\n",
    ")\n"
   ]
  },
  {
   "cell_type": "code",
   "execution_count": 29,
   "id": "bb26c952-881b-490f-931b-3003c038335f",
   "metadata": {},
   "outputs": [],
   "source": [
    "Q = 90"
   ]
  },
  {
   "cell_type": "code",
   "execution_count": 30,
   "id": "0a658ca6-ef37-4b20-82c9-99b2276f9778",
   "metadata": {},
   "outputs": [],
   "source": [
    "for p in [0.1, 0.3, 0.5, 0.7, 0.9]:\n",
    "\n",
    "    collection_name = f\"yahoo_finance_article_AUTOPHRASE_Q{Q}_{int(p * 100)}\"\n",
    "\n",
    "    milvus_client.drop_collection(\n",
    "        collection_name=collection_name,\n",
    "    )"
   ]
  },
  {
   "cell_type": "code",
   "execution_count": 31,
   "id": "d1642d6b-d2b0-49ef-a104-437718c26d1e",
   "metadata": {},
   "outputs": [
    {
     "name": "stdout",
     "output_type": "stream",
     "text": [
      "{'state': <LoadState: Loaded>}\n",
      "{'state': <LoadState: Loaded>}\n",
      "{'state': <LoadState: Loaded>}\n",
      "{'state': <LoadState: Loaded>}\n",
      "{'state': <LoadState: Loaded>}\n"
     ]
    }
   ],
   "source": [
    "for p in [0.1, 0.3, 0.5, 0.7, 0.9]:\n",
    "\n",
    "    collection_name = f\"yahoo_finance_article_AUTOPHRASE_Q{Q}_{int(p * 100)}\"\n",
    "    \n",
    "    schema = MilvusClient.create_schema(\n",
    "        auto_id=False,\n",
    "        enable_dynamic_field=True,\n",
    "    )\n",
    "    \n",
    "    schema.add_field(field_name=\"id\", datatype=DataType.INT64, is_primary=True)\n",
    "    schema.add_field(field_name=\"embedded_document\", datatype=DataType.FLOAT_VECTOR, dim=384) \n",
    "    \n",
    "    # dimensions: \n",
    "    # 100 for GloVe-100\n",
    "    # 1536 dimensions for ada-002\n",
    "    # 384 for all-MiniLM-L6-v2\n",
    "    # 768 for all-mpnet-base-v2\n",
    "    \n",
    "    index_params = milvus_client.prepare_index_params()\n",
    "    \n",
    "    index_params.add_index(\n",
    "        field_name=\"id\",\n",
    "        index_type=\"STL_SORT\"\n",
    "    )\n",
    "    \n",
    "    index_params.add_index(\n",
    "        field_name=\"embedded_document\", \n",
    "        index_type=\"IVF_FLAT\",\n",
    "        metric_type=\"IP\",\n",
    "        params={ \"nlist\": 128 }\n",
    "    )\n",
    "    \n",
    "    milvus_client.create_collection(\n",
    "        collection_name=collection_name,\n",
    "        schema=schema,\n",
    "        index_params=index_params\n",
    "    )\n",
    "    \n",
    "    time.sleep(5)\n",
    "    \n",
    "    res = milvus_client.get_load_state(\n",
    "        collection_name=collection_name\n",
    "    )\n",
    "    \n",
    "    print(res)\n",
    "    \n",
    "    \n"
   ]
  },
  {
   "cell_type": "code",
   "execution_count": 32,
   "id": "916feb43-25e8-408f-8549-db75049b7b31",
   "metadata": {},
   "outputs": [
    {
     "name": "stderr",
     "output_type": "stream",
     "text": [
      "C:\\Python311\\Lib\\site-packages\\huggingface_hub\\file_download.py:797: FutureWarning: `resume_download` is deprecated and will be removed in version 1.0.0. Downloads always resume when possible. If you want to force a new download, use `force_download=True`.\n",
      "  warnings.warn(\n"
     ]
    }
   ],
   "source": [
    "### BERT Embeddings\n",
    "# model_name = \"sentence-transformers/all-mpnet-base-v2\"\n",
    "model_name = \"all-MiniLM-L6-v2\"\n",
    "model = SentenceTransformer(model_name)\n",
    "def get_embeddings_from_bert(sentence):\n",
    "    if type(sentence) == str:\n",
    "        return model.encode([sentence])[0]\n",
    "    else: \n",
    "        return model.encode([\"\"])[0]\n"
   ]
  },
  {
   "cell_type": "code",
   "execution_count": 33,
   "id": "8ea78f6c-da2e-48ec-8105-84b54d396509",
   "metadata": {},
   "outputs": [
    {
     "name": "stdout",
     "output_type": "stream",
     "text": [
      "Starting insertion of documents for p = 0.1\n",
      "Insertion finished. Execution took 82.70732045173645 seconds.\n",
      "Starting insertion of documents for p = 0.3\n",
      "Insertion finished. Execution took 79.14713215827942 seconds.\n",
      "Starting insertion of documents for p = 0.5\n",
      "Insertion finished. Execution took 76.34741449356079 seconds.\n",
      "Starting insertion of documents for p = 0.7\n",
      "Insertion finished. Execution took 65.89435648918152 seconds.\n",
      "Starting insertion of documents for p = 0.9\n",
      "Insertion finished. Execution took 28.601293802261353 seconds.\n"
     ]
    }
   ],
   "source": [
    "insertion_times = []\n",
    "\n",
    "for p in [0.1, 0.3, 0.5, 0.7, 0.9]:\n",
    "# for Q in [30, 70, 90]:\n",
    "\n",
    "    print(f\"Starting insertion of documents for p = {p}\")\n",
    "    # print(f\"Starting insertion of documents for Q = {Q}\")\n",
    "\n",
    "    insertion_time = {\"p\": p}\n",
    "\n",
    "    df = pd.read_csv(f'../high_quality_dropout/Q_Threshold_{str(Q/100)}-Drop_P_{str(p)}.csv')\n",
    "    df['id'] = range(len(df))\n",
    "    \n",
    "    collection_name = f\"yahoo_finance_article_AUTOPHRASE_Q{Q}_{int(p * 100)}\"\n",
    "    content_column_name = \"filtered_content\"\n",
    "\n",
    "    \"\"\"\n",
    "    try:\n",
    "        avg_number_of_words = np.mean(df[content_column_name].map(lambda x: len(x.split(\" \"))).to_list())\n",
    "        print(f\"Average number of words in p={p} collection: {avg_number_of_words}\")\n",
    "    except:\n",
    "        print(\"An error occurred while calculating the avg number of words\")\n",
    "    \"\"\"\n",
    "\n",
    "    start = time.time()\n",
    "\n",
    "    insertions = df.apply(lambda x: {\"id\": x[\"id\"], \"embedded_document\": get_embeddings_from_bert(x[content_column_name])}, axis=1).to_list()\n",
    "\n",
    "    res = milvus_client.insert(\n",
    "        collection_name=collection_name,\n",
    "        data=insertions\n",
    "    )\n",
    "\n",
    "    end = time.time()\n",
    "\n",
    "    exec_time = end - start\n",
    "    insertion_time[\"insertion_time\"] = exec_time\n",
    "\n",
    "    insertion_times.append(insertion_time)\n",
    "\n",
    "    print(f\"Insertion finished. Execution took {exec_time} seconds.\")\n",
    "    "
   ]
  },
  {
   "cell_type": "code",
   "execution_count": 25,
   "id": "6a0ae315-49fd-4382-8752-87f3d3d6b34e",
   "metadata": {},
   "outputs": [
    {
     "data": {
      "text/plain": [
       "'\\nwith open(f\\'insertion_times_AUTOPHRASE_Q{Q}_{model_name.replace(\"sentence-transformers/\", \"\")}.txt\\', \\'w\\') as file:\\n    file.write(str(insertion_times))\\n'"
      ]
     },
     "execution_count": 25,
     "metadata": {},
     "output_type": "execute_result"
    }
   ],
   "source": [
    "\"\"\"\n",
    "with open(f'insertion_times_AUTOPHRASE_Q{Q}_{model_name.replace(\"sentence-transformers/\", \"\")}.txt', 'w') as file:\n",
    "    file.write(str(insertion_times))\n",
    "\"\"\""
   ]
  },
  {
   "cell_type": "code",
   "execution_count": 34,
   "id": "ec4baf30-ee31-4056-94af-e4f226ede9d0",
   "metadata": {},
   "outputs": [],
   "source": [
    "import json\n",
    "with open(f'insertion_times_AUTOPHRASE_Q{Q}_{model_name.replace(\"sentence-transformers/\", \"\")}.json', 'w') as fp:\n",
    "    json.dump(insertion_times, fp)"
   ]
  },
  {
   "cell_type": "code",
   "execution_count": null,
   "id": "7120236d-8ad7-4d14-bdcc-c50200346e56",
   "metadata": {},
   "outputs": [],
   "source": []
  }
 ],
 "metadata": {
  "kernelspec": {
   "display_name": "Python 3 (ipykernel)",
   "language": "python",
   "name": "python3"
  },
  "language_info": {
   "codemirror_mode": {
    "name": "ipython",
    "version": 3
   },
   "file_extension": ".py",
   "mimetype": "text/x-python",
   "name": "python",
   "nbconvert_exporter": "python",
   "pygments_lexer": "ipython3",
   "version": "3.11.4"
  }
 },
 "nbformat": 4,
 "nbformat_minor": 5
}
