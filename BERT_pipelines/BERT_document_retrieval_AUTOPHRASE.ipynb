{
 "cells": [
  {
   "cell_type": "code",
   "execution_count": 91,
   "id": "3fd6f34b-fcc9-4322-b005-ceef8d2e6d41",
   "metadata": {},
   "outputs": [],
   "source": [
    "from pymilvus import MilvusClient, DataType\n",
    "from openai import OpenAI, Embedding\n",
    "from sentence_transformers import SentenceTransformer\n",
    "import pandas as pd\n",
    "import time\n",
    "import numpy as np\n",
    "import json\n"
   ]
  },
  {
   "cell_type": "code",
   "execution_count": 92,
   "id": "a6aadbd4-9120-432d-a0d5-e061617549b6",
   "metadata": {},
   "outputs": [],
   "source": [
    "milvus_client = MilvusClient(\n",
    "    uri=\"http://localhost:19530\"\n",
    ")\n"
   ]
  },
  {
   "cell_type": "code",
   "execution_count": 93,
   "id": "60fe5400-87f8-488c-9003-c0a64d771560",
   "metadata": {},
   "outputs": [],
   "source": [
    "p=0.1"
   ]
  },
  {
   "cell_type": "code",
   "execution_count": 94,
   "id": "cd0df068-efe4-4c4f-bdd9-f9bf85ed5193",
   "metadata": {},
   "outputs": [],
   "source": [
    "queries = pd.read_csv(\"../queries_for_documents.csv\").tail(50)"
   ]
  },
  {
   "cell_type": "code",
   "execution_count": 95,
   "id": "e8efb2fd-af7d-422e-9324-96ac4f5c48a2",
   "metadata": {},
   "outputs": [
    {
     "data": {
      "text/plain": [
       "50"
      ]
     },
     "execution_count": 95,
     "metadata": {},
     "output_type": "execute_result"
    }
   ],
   "source": [
    "len(queries)"
   ]
  },
  {
   "cell_type": "code",
   "execution_count": 96,
   "id": "b4f20230-43d8-4309-a004-7bbd380cca2e",
   "metadata": {},
   "outputs": [
    {
     "name": "stderr",
     "output_type": "stream",
     "text": [
      "C:\\Python311\\Lib\\site-packages\\huggingface_hub\\file_download.py:797: FutureWarning: `resume_download` is deprecated and will be removed in version 1.0.0. Downloads always resume when possible. If you want to force a new download, use `force_download=True`.\n",
      "  warnings.warn(\n"
     ]
    }
   ],
   "source": [
    "### BERT Embeddings\n",
    "model_name = \"sentence-transformers/all-mpnet-base-v2\"\n",
    "# model_name = \"all-MiniLM-L6-v2\"\n",
    "model = SentenceTransformer(model_name)\n",
    "def get_embeddings_from_bert(sentence):\n",
    "    return model.encode([sentence])[0]\n",
    "\n"
   ]
  },
  {
   "cell_type": "code",
   "execution_count": 97,
   "id": "ccfca25f-f212-4fca-97e2-f01bde33de7e",
   "metadata": {},
   "outputs": [
    {
     "data": {
      "text/html": [
       "<div>\n",
       "<style scoped>\n",
       "    .dataframe tbody tr th:only-of-type {\n",
       "        vertical-align: middle;\n",
       "    }\n",
       "\n",
       "    .dataframe tbody tr th {\n",
       "        vertical-align: top;\n",
       "    }\n",
       "\n",
       "    .dataframe thead th {\n",
       "        text-align: right;\n",
       "    }\n",
       "</style>\n",
       "<table border=\"1\" class=\"dataframe\">\n",
       "  <thead>\n",
       "    <tr style=\"text-align: right;\">\n",
       "      <th></th>\n",
       "      <th>query</th>\n",
       "      <th>doc_index</th>\n",
       "    </tr>\n",
       "  </thead>\n",
       "  <tbody>\n",
       "    <tr>\n",
       "      <th>25</th>\n",
       "      <td>Who are the plaintiffs involved in the Mazzaga...</td>\n",
       "      <td>556</td>\n",
       "    </tr>\n",
       "    <tr>\n",
       "      <th>26</th>\n",
       "      <td>How much of a hit did Best Buy's stock take af...</td>\n",
       "      <td>302</td>\n",
       "    </tr>\n",
       "    <tr>\n",
       "      <th>27</th>\n",
       "      <td>How are medicare pricing adjustments affecting...</td>\n",
       "      <td>312</td>\n",
       "    </tr>\n",
       "    <tr>\n",
       "      <th>28</th>\n",
       "      <td>How much has twitter been devalued since rebra...</td>\n",
       "      <td>314</td>\n",
       "    </tr>\n",
       "    <tr>\n",
       "      <th>29</th>\n",
       "      <td>What effect is China's imports on crude oil ha...</td>\n",
       "      <td>545</td>\n",
       "    </tr>\n",
       "  </tbody>\n",
       "</table>\n",
       "</div>"
      ],
      "text/plain": [
       "                                                query  doc_index\n",
       "25  Who are the plaintiffs involved in the Mazzaga...        556\n",
       "26  How much of a hit did Best Buy's stock take af...        302\n",
       "27  How are medicare pricing adjustments affecting...        312\n",
       "28  How much has twitter been devalued since rebra...        314\n",
       "29  What effect is China's imports on crude oil ha...        545"
      ]
     },
     "execution_count": 97,
     "metadata": {},
     "output_type": "execute_result"
    }
   ],
   "source": [
    "queries.head()"
   ]
  },
  {
   "cell_type": "code",
   "execution_count": 98,
   "id": "a6bf7eeb-5862-4fe3-b592-173e3fb92005",
   "metadata": {},
   "outputs": [],
   "source": [
    "def compute_score(row, p):\n",
    "\n",
    "    query, ground_truth_document_id = row[\"query\"], row[\"doc_index\"]\n",
    "    collection_name = f\"yahoo_finance_article_BIG_BERT_AUTOPHRASE_Q{Q}_{int(p * 100)}\"\n",
    "    embedded_query = get_embeddings_from_bert(query)\n",
    "\n",
    "    start = time.time()\n",
    "    \n",
    "    res = milvus_client.search(\n",
    "        collection_name=collection_name,\n",
    "        data=[embedded_query],\n",
    "        limit=5,\n",
    "        search_params={\"metric_type\": \"IP\", \"params\": {}} # Search parameters\n",
    "    )\n",
    "    \n",
    "    end = time.time()\n",
    "    exec_time = end - start\n",
    "\n",
    "    top1 = 1 if ground_truth_document_id in [(r[\"id\"]) for r in res[0]][:1] else 0\n",
    "    top3 = 1 if ground_truth_document_id in [(r[\"id\"]) for r in res[0]][:3] else 0\n",
    "    top5 = 1 if ground_truth_document_id in [(r[\"id\"]) for r in res[0]][:5] else 0\n",
    "\n",
    "    return (top1, top3, top5, exec_time)"
   ]
  },
  {
   "cell_type": "code",
   "execution_count": 99,
   "id": "0f0aed0f-4a8d-4602-97a5-006fbb35f648",
   "metadata": {},
   "outputs": [],
   "source": [
    "for Q in [30, 70, 90]:\n",
    "    # queries[\"scores\"] = queries[\"query\"].map(lambda x: compute_score(x, p))\n",
    "    queries[f\"scores_{Q}\"] = queries.apply(lambda x: compute_score(x, p), axis=1)\n",
    "\n"
   ]
  },
  {
   "cell_type": "code",
   "execution_count": 100,
   "id": "c9379c7e-a4f2-4742-9e39-2514a4dcfb76",
   "metadata": {},
   "outputs": [],
   "source": [
    "scores_percentage = {}\n",
    "\n",
    "for Q in [30, 70, 90]:\n",
    "    scores_percentage[str(Q)] = tuple(\n",
    "        sum(values) / len(values) for values in zip(*queries[f'scores_{Q}'])\n",
    "    )"
   ]
  },
  {
   "cell_type": "code",
   "execution_count": 101,
   "id": "a74c7b9e-589c-4543-b92b-014247331bbc",
   "metadata": {},
   "outputs": [
    {
     "data": {
      "text/plain": [
       "{'30': (0.72, 0.84, 0.9, 0.004431514739990234),\n",
       " '70': (0.72, 0.82, 0.88, 0.004140405654907226),\n",
       " '90': (0.68, 0.84, 0.88, 0.0041989898681640625)}"
      ]
     },
     "execution_count": 101,
     "metadata": {},
     "output_type": "execute_result"
    }
   ],
   "source": [
    "scores_percentage"
   ]
  },
  {
   "cell_type": "code",
   "execution_count": 102,
   "id": "2e9a2c42-80f6-4e9a-97ea-9a07e85a8c4f",
   "metadata": {},
   "outputs": [],
   "source": [
    "with open(f'scores_BIG_BERT_AUTOPHRASE_P{p}_{model_name.replace(\"sentence-transformers/\", \"\")}.txt', 'w') as file:\n",
    "    file.write(str(scores_percentage))"
   ]
  },
  {
   "cell_type": "code",
   "execution_count": null,
   "id": "33a20e86-a4f8-411a-99fe-977947b06e7a",
   "metadata": {},
   "outputs": [],
   "source": []
  }
 ],
 "metadata": {
  "kernelspec": {
   "display_name": "Python 3 (ipykernel)",
   "language": "python",
   "name": "python3"
  },
  "language_info": {
   "codemirror_mode": {
    "name": "ipython",
    "version": 3
   },
   "file_extension": ".py",
   "mimetype": "text/x-python",
   "name": "python",
   "nbconvert_exporter": "python",
   "pygments_lexer": "ipython3",
   "version": "3.11.4"
  }
 },
 "nbformat": 4,
 "nbformat_minor": 5
}
