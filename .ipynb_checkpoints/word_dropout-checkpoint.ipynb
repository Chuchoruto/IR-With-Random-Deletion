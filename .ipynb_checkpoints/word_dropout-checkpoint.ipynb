{
 "cells": [
  {
   "cell_type": "code",
   "execution_count": 44,
   "id": "bf63c418-216c-4628-b8c5-beb5b59a54b2",
   "metadata": {},
   "outputs": [],
   "source": [
    "import pandas as pd\n",
    "import random"
   ]
  },
  {
   "cell_type": "code",
   "execution_count": 49,
   "id": "3ed9fa44-3cbc-4ad8-a80f-d3f62204e000",
   "metadata": {},
   "outputs": [],
   "source": [
    "df = pd.read_csv(\"11_20_2024_Articles.csv\")"
   ]
  },
  {
   "cell_type": "code",
   "execution_count": 51,
   "id": "72369616-c61d-4e61-a206-e2521e2a466b",
   "metadata": {},
   "outputs": [],
   "source": [
    "sentences_to_cut = [\n",
    "    \"We are experiencing some temporary issues. The market data on this page is currently delayed. Please bear with us as we address this and restore your personalized lists.\",\n",
    "    \" Sign in to access your portfolio\",\n",
    "]\n",
    "\n",
    "def cut_sentences(string):\n",
    "    for s in sentences_to_cut:\n",
    "        string = string.replace(s, \"\")\n",
    "    return string\n",
    "\n",
    "df[\"content\"] = df[\"content\"].map(cut_sentences)\n",
    "\n"
   ]
  },
  {
   "cell_type": "code",
   "execution_count": 53,
   "id": "74ee9d81-9c62-4b33-a7bd-1c814053f797",
   "metadata": {},
   "outputs": [],
   "source": [
    "df.insert(0, 'id', range(len(df)))"
   ]
  },
  {
   "cell_type": "code",
   "execution_count": 54,
   "id": "36c963e0-e4da-4578-9e23-c8771245a587",
   "metadata": {},
   "outputs": [],
   "source": [
    "def drop_content(string, p):\n",
    "    string_array = string.split(\" \")\n",
    "    \n",
    "    num_to_remove = int(len(string_array) * p)\n",
    "    \n",
    "    indices_to_remove = random.sample(range(len(string_array)), num_to_remove)\n",
    "    \n",
    "    reduced_array = [val for i, val in enumerate(string_array) if i not in indices_to_remove]\n",
    "    \n",
    "    return \" \".join(reduced_array)\n",
    "\n",
    "\n"
   ]
  },
  {
   "cell_type": "code",
   "execution_count": 55,
   "id": "fed8652f-d1f4-4c24-9f3a-db12b089280e",
   "metadata": {},
   "outputs": [],
   "source": [
    "for p in [0.1, 0.3, 0.5, 0.7, 0.9]:\n",
    "    dropout_df = df\n",
    "    dropout_df[\"reduced_content\"] = df[\"content\"].map(lambda x: drop_content(x, 0.3))\n",
    "    dropout_df.to_csv(f\"11_20_2024_Articles_DROPPED_p={p}.csv\")"
   ]
  },
  {
   "cell_type": "code",
   "execution_count": null,
   "id": "902aefb4-0bba-4ebb-a0ce-3b8d13d41f98",
   "metadata": {},
   "outputs": [],
   "source": []
  },
  {
   "cell_type": "code",
   "execution_count": null,
   "id": "3a21c330-620f-417c-8dca-4225c57566bd",
   "metadata": {},
   "outputs": [],
   "source": []
  }
 ],
 "metadata": {
  "kernelspec": {
   "display_name": "Python 3 (ipykernel)",
   "language": "python",
   "name": "python3"
  },
  "language_info": {
   "codemirror_mode": {
    "name": "ipython",
    "version": 3
   },
   "file_extension": ".py",
   "mimetype": "text/x-python",
   "name": "python",
   "nbconvert_exporter": "python",
   "pygments_lexer": "ipython3",
   "version": "3.11.5"
  }
 },
 "nbformat": 4,
 "nbformat_minor": 5
}
